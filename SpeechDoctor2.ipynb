{
  "nbformat": 4,
  "nbformat_minor": 0,
  "metadata": {
    "colab": {
      "provenance": []
    },
    "kernelspec": {
      "name": "python3",
      "display_name": "Python 3"
    },
    "language_info": {
      "name": "python"
    }
  },
  "cells": [
    {
      "cell_type": "code",
      "execution_count": 1,
      "metadata": {
        "colab": {
          "base_uri": "https://localhost:8080/"
        },
        "id": "sZ6PGyvrUNoz",
        "outputId": "12652a10-14a5-48c6-99f9-a6d561fdc363"
      },
      "outputs": [
        {
          "output_type": "stream",
          "name": "stdout",
          "text": [
            "Mounted at /content/drive\n"
          ]
        }
      ],
      "source": [
        "from google.colab import drive\n",
        "drive.mount('/content/drive')"
      ]
    },
    {
      "cell_type": "code",
      "source": [
        "cd \"drive/MyDrive/SpeechDoctor\""
      ],
      "metadata": {
        "colab": {
          "base_uri": "https://localhost:8080/"
        },
        "id": "NlowHCP0UkC6",
        "outputId": "0c7b93d5-4aa6-4db9-80d4-7d3b005aa898"
      },
      "execution_count": 2,
      "outputs": [
        {
          "output_type": "stream",
          "name": "stdout",
          "text": [
            "/content/drive/MyDrive/SpeechDoctor\n"
          ]
        }
      ]
    },
    {
      "cell_type": "code",
      "source": [
        "!pip install pydub"
      ],
      "metadata": {
        "colab": {
          "base_uri": "https://localhost:8080/"
        },
        "id": "xLjAj8WsUlUi",
        "outputId": "74b32a2a-6b2f-405b-880a-edbfb7b9ad00"
      },
      "execution_count": 3,
      "outputs": [
        {
          "output_type": "stream",
          "name": "stdout",
          "text": [
            "Looking in indexes: https://pypi.org/simple, https://us-python.pkg.dev/colab-wheels/public/simple/\n",
            "Collecting pydub\n",
            "  Downloading pydub-0.25.1-py2.py3-none-any.whl (32 kB)\n",
            "Installing collected packages: pydub\n",
            "Successfully installed pydub-0.25.1\n"
          ]
        }
      ]
    },
    {
      "cell_type": "markdown",
      "source": [
        "### Convert .mp3 to .wav"
      ],
      "metadata": {
        "id": "pA_U2G0jUtqv"
      }
    },
    {
      "cell_type": "code",
      "source": [
        "from os import path\n",
        "from pydub import AudioSegment"
      ],
      "metadata": {
        "id": "Yul6uakOUpsn"
      },
      "execution_count": 4,
      "outputs": []
    },
    {
      "cell_type": "code",
      "source": [
        "src = \"converted_e29i0_ShanIndaAMAccent_enhanced.mp3\"\n",
        "dst = \"converted_e29i0_ShanIndaAMAccent_enhanced.wav\""
      ],
      "metadata": {
        "id": "hAwfcwMmUsJq"
      },
      "execution_count": 5,
      "outputs": []
    },
    {
      "cell_type": "code",
      "source": [
        "sound = AudioSegment.from_mp3(src)\n",
        "sound.export(dst, format=\"wav\")"
      ],
      "metadata": {
        "colab": {
          "base_uri": "https://localhost:8080/"
        },
        "id": "LVvNAPjIUtHT",
        "outputId": "408808ff-1d04-425c-853c-9601a9ceb384"
      },
      "execution_count": 6,
      "outputs": [
        {
          "output_type": "execute_result",
          "data": {
            "text/plain": [
              "<_io.BufferedRandom name='converted_e29i0_ShanIndaAMAccent_enhanced.wav'>"
            ]
          },
          "metadata": {},
          "execution_count": 6
        }
      ]
    },
    {
      "cell_type": "markdown",
      "source": [
        "### For the audio files that has different sampling rate, need to resample"
      ],
      "metadata": {
        "id": "XnKs1LJSU3yG"
      }
    },
    {
      "cell_type": "code",
      "source": [
        "import scipy.signal\n",
        "import soundfile as sf"
      ],
      "metadata": {
        "id": "ZseLm81PU6z6"
      },
      "execution_count": 7,
      "outputs": []
    },
    {
      "cell_type": "code",
      "source": [
        "# Load the original audio file\n",
        "audio, original_sample_rate = sf.read(dst)\n",
        "\n",
        "# Set the target sample rate\n",
        "target_sample_rate = 16000\n",
        "\n",
        "# Calculate the resampling ratio\n",
        "resampling_ratio = target_sample_rate / original_sample_rate\n",
        "\n",
        "# Resample the audio to the target sample rate\n",
        "resampled_audio = scipy.signal.resample(audio, int(len(audio) * resampling_ratio))\n",
        "\n",
        "# Save the resampled audio to a new file\n",
        "sf.write(\"converted_e29i0_ShanIndaAMAccent_enhanced_resampled.wav\", resampled_audio, target_sample_rate)"
      ],
      "metadata": {
        "id": "uXKn8w3DU90h"
      },
      "execution_count": 8,
      "outputs": []
    },
    {
      "cell_type": "markdown",
      "source": [
        "### Convert into Mono file"
      ],
      "metadata": {
        "id": "9_fyrfnWVBbW"
      }
    },
    {
      "cell_type": "code",
      "source": [
        "sound = AudioSegment.from_wav(\"converted_e29i0_ShanIndaAMAccent_enhanced_resampled.wav\")\n",
        "sound = sound.set_channels(1)\n",
        "sound.export(\"converted_e29i0_ShanIndaAMAccent_enhanced_resampled_mono.wav\", format=\"wav\")"
      ],
      "metadata": {
        "colab": {
          "base_uri": "https://localhost:8080/"
        },
        "id": "xqJLZN-zVGXT",
        "outputId": "15d74a58-9c6b-41ef-dc51-5b0f339ff732"
      },
      "execution_count": 9,
      "outputs": [
        {
          "output_type": "execute_result",
          "data": {
            "text/plain": [
              "<_io.BufferedRandom name='converted_e29i0_ShanIndaAMAccent_enhanced_resampled_mono.wav'>"
            ]
          },
          "metadata": {},
          "execution_count": 9
        }
      ]
    },
    {
      "cell_type": "markdown",
      "source": [
        "## Count the number of sentences and timestamps"
      ],
      "metadata": {
        "id": "37BJeNETVVR_"
      }
    },
    {
      "cell_type": "markdown",
      "source": [
        "### Use OpenAI whisper"
      ],
      "metadata": {
        "id": "KjW8D7AOVjye"
      }
    },
    {
      "cell_type": "code",
      "source": [
        "!pip install -U openai-whisper"
      ],
      "metadata": {
        "colab": {
          "base_uri": "https://localhost:8080/"
        },
        "id": "B4bsxcK0Viy3",
        "outputId": "01abbc80-faae-4938-b9e0-268bef0cba0a"
      },
      "execution_count": 10,
      "outputs": [
        {
          "output_type": "stream",
          "name": "stdout",
          "text": [
            "Looking in indexes: https://pypi.org/simple, https://us-python.pkg.dev/colab-wheels/public/simple/\n",
            "Collecting openai-whisper\n",
            "  Downloading openai-whisper-20230314.tar.gz (792 kB)\n",
            "\u001b[2K     \u001b[90m━━━━━━━━━━━━━━━━━━━━━━━━━━━━━━━━━━━━━━\u001b[0m \u001b[32m792.9/792.9 kB\u001b[0m \u001b[31m11.6 MB/s\u001b[0m eta \u001b[36m0:00:00\u001b[0m\n",
            "\u001b[?25h  Installing build dependencies ... \u001b[?25l\u001b[?25hdone\n",
            "  Getting requirements to build wheel ... \u001b[?25l\u001b[?25hdone\n",
            "  Preparing metadata (pyproject.toml) ... \u001b[?25l\u001b[?25hdone\n",
            "Requirement already satisfied: triton==2.0.0 in /usr/local/lib/python3.10/dist-packages (from openai-whisper) (2.0.0)\n",
            "Requirement already satisfied: numba in /usr/local/lib/python3.10/dist-packages (from openai-whisper) (0.56.4)\n",
            "Requirement already satisfied: numpy in /usr/local/lib/python3.10/dist-packages (from openai-whisper) (1.22.4)\n",
            "Requirement already satisfied: torch in /usr/local/lib/python3.10/dist-packages (from openai-whisper) (2.0.1+cu118)\n",
            "Requirement already satisfied: tqdm in /usr/local/lib/python3.10/dist-packages (from openai-whisper) (4.65.0)\n",
            "Requirement already satisfied: more-itertools in /usr/local/lib/python3.10/dist-packages (from openai-whisper) (9.1.0)\n",
            "Collecting tiktoken==0.3.1 (from openai-whisper)\n",
            "  Downloading tiktoken-0.3.1-cp310-cp310-manylinux_2_17_x86_64.manylinux2014_x86_64.whl (1.7 MB)\n",
            "\u001b[2K     \u001b[90m━━━━━━━━━━━━━━━━━━━━━━━━━━━━━━━━━━━━━━━━\u001b[0m \u001b[32m1.7/1.7 MB\u001b[0m \u001b[31m44.8 MB/s\u001b[0m eta \u001b[36m0:00:00\u001b[0m\n",
            "\u001b[?25hCollecting ffmpeg-python==0.2.0 (from openai-whisper)\n",
            "  Downloading ffmpeg_python-0.2.0-py3-none-any.whl (25 kB)\n",
            "Requirement already satisfied: future in /usr/local/lib/python3.10/dist-packages (from ffmpeg-python==0.2.0->openai-whisper) (0.18.3)\n",
            "Requirement already satisfied: regex>=2022.1.18 in /usr/local/lib/python3.10/dist-packages (from tiktoken==0.3.1->openai-whisper) (2022.10.31)\n",
            "Requirement already satisfied: requests>=2.26.0 in /usr/local/lib/python3.10/dist-packages (from tiktoken==0.3.1->openai-whisper) (2.27.1)\n",
            "Requirement already satisfied: cmake in /usr/local/lib/python3.10/dist-packages (from triton==2.0.0->openai-whisper) (3.25.2)\n",
            "Requirement already satisfied: filelock in /usr/local/lib/python3.10/dist-packages (from triton==2.0.0->openai-whisper) (3.12.0)\n",
            "Requirement already satisfied: lit in /usr/local/lib/python3.10/dist-packages (from triton==2.0.0->openai-whisper) (16.0.5)\n",
            "Requirement already satisfied: llvmlite<0.40,>=0.39.0dev0 in /usr/local/lib/python3.10/dist-packages (from numba->openai-whisper) (0.39.1)\n",
            "Requirement already satisfied: setuptools in /usr/local/lib/python3.10/dist-packages (from numba->openai-whisper) (67.7.2)\n",
            "Requirement already satisfied: typing-extensions in /usr/local/lib/python3.10/dist-packages (from torch->openai-whisper) (4.5.0)\n",
            "Requirement already satisfied: sympy in /usr/local/lib/python3.10/dist-packages (from torch->openai-whisper) (1.11.1)\n",
            "Requirement already satisfied: networkx in /usr/local/lib/python3.10/dist-packages (from torch->openai-whisper) (3.1)\n",
            "Requirement already satisfied: jinja2 in /usr/local/lib/python3.10/dist-packages (from torch->openai-whisper) (3.1.2)\n",
            "Requirement already satisfied: urllib3<1.27,>=1.21.1 in /usr/local/lib/python3.10/dist-packages (from requests>=2.26.0->tiktoken==0.3.1->openai-whisper) (1.26.15)\n",
            "Requirement already satisfied: certifi>=2017.4.17 in /usr/local/lib/python3.10/dist-packages (from requests>=2.26.0->tiktoken==0.3.1->openai-whisper) (2022.12.7)\n",
            "Requirement already satisfied: charset-normalizer~=2.0.0 in /usr/local/lib/python3.10/dist-packages (from requests>=2.26.0->tiktoken==0.3.1->openai-whisper) (2.0.12)\n",
            "Requirement already satisfied: idna<4,>=2.5 in /usr/local/lib/python3.10/dist-packages (from requests>=2.26.0->tiktoken==0.3.1->openai-whisper) (3.4)\n",
            "Requirement already satisfied: MarkupSafe>=2.0 in /usr/local/lib/python3.10/dist-packages (from jinja2->torch->openai-whisper) (2.1.2)\n",
            "Requirement already satisfied: mpmath>=0.19 in /usr/local/lib/python3.10/dist-packages (from sympy->torch->openai-whisper) (1.3.0)\n",
            "Building wheels for collected packages: openai-whisper\n",
            "  Building wheel for openai-whisper (pyproject.toml) ... \u001b[?25l\u001b[?25hdone\n",
            "  Created wheel for openai-whisper: filename=openai_whisper-20230314-py3-none-any.whl size=796910 sha256=fdff5cda138af964afa30b66c8d0b2b91b3e1c6ef5c1d4e5f1f67051f246348d\n",
            "  Stored in directory: /root/.cache/pip/wheels/b2/13/5f/fe8245f6dc59df505879da4b2129932e342f02a80e6b87f27d\n",
            "Successfully built openai-whisper\n",
            "Installing collected packages: ffmpeg-python, tiktoken, openai-whisper\n",
            "Successfully installed ffmpeg-python-0.2.0 openai-whisper-20230314 tiktoken-0.3.1\n"
          ]
        }
      ]
    },
    {
      "cell_type": "code",
      "source": [
        "import whisper\n",
        "\n",
        "# available models = ['tiny.en', 'tiny', 'base.en', 'base', 'small.en', 'small', 'medium.en', 'medium', 'large-v1', 'large-v2', 'large']\n",
        "model = whisper.load_model(\"base\")"
      ],
      "metadata": {
        "colab": {
          "base_uri": "https://localhost:8080/"
        },
        "id": "WqrByLyMWUaD",
        "outputId": "8cc40232-93ff-4212-dd9d-efc73ad1f62d"
      },
      "execution_count": 11,
      "outputs": [
        {
          "output_type": "stream",
          "name": "stderr",
          "text": [
            "100%|████████████████████████████████████████| 139M/139M [00:01<00:00, 141MiB/s]\n"
          ]
        }
      ]
    },
    {
      "cell_type": "code",
      "source": [
        "result = model.transcribe(\"converted_e29i0_ShanIndaAMAccent_enhanced_resampled_mono.wav\")\n",
        "print(result[\"text\"])"
      ],
      "metadata": {
        "colab": {
          "base_uri": "https://localhost:8080/"
        },
        "id": "qGg8GAQpWkNK",
        "outputId": "260df4ea-186a-4944-97fe-929181dceec4"
      },
      "execution_count": 12,
      "outputs": [
        {
          "output_type": "stream",
          "name": "stderr",
          "text": [
            "/usr/local/lib/python3.10/dist-packages/whisper/transcribe.py:114: UserWarning: FP16 is not supported on CPU; using FP32 instead\n",
            "  warnings.warn(\"FP16 is not supported on CPU; using FP32 instead\")\n"
          ]
        },
        {
          "output_type": "stream",
          "name": "stdout",
          "text": [
            " Hello, my name is Prasjant and I am going to graduate with an engineering degree in computer science, ready to embark on a journey of continuous learning and technological advancement. Throughout my college-journal computer science, I have acquired a comprehensive understanding of algorithms, data structures, software development and system design. The dynamic nature of computer science has allowed me to embrace challenges, adapt to new technologies and constantly stay at the forefront of innovation. With the Solid Foundation in Computer Science principles in the programming, I am equipped to navigate the landscape and tackle complex problems head on. As the computer science graduate, I possess strong problem-solving skills, a logical mindset and the ability to think critically, which are essential in navigating the complexities of the digital era. I am proficient in multiple programming languages, including but not limited to Python, Java, C++ and JavaScript, enabling me to develop robust and scalable software solutions. The field of computer science is characterized by a collaborative nature and I am excited to work with interdisciplinary teams to create innovative applications that addresses real world problems. Through internships and hands-on projects, I have gained practical experience as software development, methodologies, version control systems and agile practices ensuring efficient and collaborative teamwork. I am particularly interested in the fields of artificial intelligence, machine learning and data science, which have the potential to revolutionize industries and shape the future of technology. The exponential growth of data and the powerful algorithms have fueled my desire to explore the realms of data analysis, pattern recognition and intelligent decision making. I think the computer science is not just about writing code, it is about developing elegant and efficient solutions to optimize processes, enhance user experience and make a positive impact on society. I am up for any challenge you present me at my job. Thank you.\n"
          ]
        }
      ]
    },
    {
      "cell_type": "code",
      "source": [
        "print(result['segments'])"
      ],
      "metadata": {
        "colab": {
          "base_uri": "https://localhost:8080/"
        },
        "id": "7TiYMeZEW6Gm",
        "outputId": "3eea8d2f-efc5-4a8a-cd17-177228c7c93e"
      },
      "execution_count": 15,
      "outputs": [
        {
          "output_type": "stream",
          "name": "stdout",
          "text": [
            "[{'id': 0, 'seek': 0, 'start': 0.0, 'end': 5.36, 'text': ' Hello, my name is Prasjant and I am going to graduate with an engineering degree in computer', 'tokens': [50364, 2425, 11, 452, 1315, 307, 2114, 296, 73, 394, 293, 286, 669, 516, 281, 8080, 365, 364, 7043, 4314, 294, 3820, 50632], 'temperature': 0.0, 'avg_logprob': -0.2831454594930013, 'compression_ratio': 1.6577946768060836, 'no_speech_prob': 0.042412690818309784}, {'id': 1, 'seek': 0, 'start': 5.36, 'end': 11.88, 'text': ' science, ready to embark on a journey of continuous learning and technological advancement.', 'tokens': [50632, 3497, 11, 1919, 281, 29832, 322, 257, 4671, 295, 10957, 2539, 293, 18439, 35764, 13, 50958], 'temperature': 0.0, 'avg_logprob': -0.2831454594930013, 'compression_ratio': 1.6577946768060836, 'no_speech_prob': 0.042412690818309784}, {'id': 2, 'seek': 0, 'start': 11.88, 'end': 16.48, 'text': ' Throughout my college-journal computer science, I have acquired a comprehensive understanding', 'tokens': [50958, 22775, 452, 3859, 12, 8696, 4660, 3820, 3497, 11, 286, 362, 17554, 257, 13914, 3701, 51188], 'temperature': 0.0, 'avg_logprob': -0.2831454594930013, 'compression_ratio': 1.6577946768060836, 'no_speech_prob': 0.042412690818309784}, {'id': 3, 'seek': 0, 'start': 16.48, 'end': 21.88, 'text': ' of algorithms, data structures, software development and system design.', 'tokens': [51188, 295, 14642, 11, 1412, 9227, 11, 4722, 3250, 293, 1185, 1715, 13, 51458], 'temperature': 0.0, 'avg_logprob': -0.2831454594930013, 'compression_ratio': 1.6577946768060836, 'no_speech_prob': 0.042412690818309784}, {'id': 4, 'seek': 0, 'start': 21.88, 'end': 27.0, 'text': ' The dynamic nature of computer science has allowed me to embrace challenges, adapt to', 'tokens': [51458, 440, 8546, 3687, 295, 3820, 3497, 575, 4350, 385, 281, 14038, 4759, 11, 6231, 281, 51714], 'temperature': 0.0, 'avg_logprob': -0.2831454594930013, 'compression_ratio': 1.6577946768060836, 'no_speech_prob': 0.042412690818309784}, {'id': 5, 'seek': 2700, 'start': 27.0, 'end': 32.84, 'text': ' new technologies and constantly stay at the forefront of innovation.', 'tokens': [50364, 777, 7943, 293, 6460, 1754, 412, 264, 27287, 295, 8504, 13, 50656], 'temperature': 0.0, 'avg_logprob': -0.26051170175725763, 'compression_ratio': 1.6022727272727273, 'no_speech_prob': 0.0031151699367910624}, {'id': 6, 'seek': 2700, 'start': 32.84, 'end': 37.16, 'text': ' With the Solid Foundation in Computer Science principles in the programming, I am equipped', 'tokens': [50656, 2022, 264, 26664, 10335, 294, 22289, 8976, 9156, 294, 264, 9410, 11, 286, 669, 15218, 50872], 'temperature': 0.0, 'avg_logprob': -0.26051170175725763, 'compression_ratio': 1.6022727272727273, 'no_speech_prob': 0.0031151699367910624}, {'id': 7, 'seek': 2700, 'start': 37.16, 'end': 40.96, 'text': ' to navigate the landscape and tackle complex problems head on.', 'tokens': [50872, 281, 12350, 264, 9661, 293, 14896, 3997, 2740, 1378, 322, 13, 51062], 'temperature': 0.0, 'avg_logprob': -0.26051170175725763, 'compression_ratio': 1.6022727272727273, 'no_speech_prob': 0.0031151699367910624}, {'id': 8, 'seek': 2700, 'start': 40.96, 'end': 47.56, 'text': ' As the computer science graduate, I possess strong problem-solving skills, a logical mindset', 'tokens': [51062, 1018, 264, 3820, 3497, 8080, 11, 286, 17490, 2068, 1154, 12, 30926, 798, 3942, 11, 257, 14978, 12543, 51392], 'temperature': 0.0, 'avg_logprob': -0.26051170175725763, 'compression_ratio': 1.6022727272727273, 'no_speech_prob': 0.0031151699367910624}, {'id': 9, 'seek': 2700, 'start': 47.56, 'end': 52.68, 'text': ' and the ability to think critically, which are essential in navigating the complexities', 'tokens': [51392, 293, 264, 3485, 281, 519, 22797, 11, 597, 366, 7115, 294, 32054, 264, 48705, 51648], 'temperature': 0.0, 'avg_logprob': -0.26051170175725763, 'compression_ratio': 1.6022727272727273, 'no_speech_prob': 0.0031151699367910624}, {'id': 10, 'seek': 2700, 'start': 52.68, 'end': 54.480000000000004, 'text': ' of the digital era.', 'tokens': [51648, 295, 264, 4562, 4249, 13, 51738], 'temperature': 0.0, 'avg_logprob': -0.26051170175725763, 'compression_ratio': 1.6022727272727273, 'no_speech_prob': 0.0031151699367910624}, {'id': 11, 'seek': 5448, 'start': 54.48, 'end': 60.8, 'text': ' I am proficient in multiple programming languages, including but not limited to Python, Java,', 'tokens': [50364, 286, 669, 1740, 24549, 294, 3866, 9410, 8650, 11, 3009, 457, 406, 5567, 281, 15329, 11, 10745, 11, 50680], 'temperature': 0.0, 'avg_logprob': -0.2169403330485026, 'compression_ratio': 1.516260162601626, 'no_speech_prob': 0.0002759568451438099}, {'id': 12, 'seek': 5448, 'start': 60.8, 'end': 68.12, 'text': ' C++ and JavaScript, enabling me to develop robust and scalable software solutions.', 'tokens': [50680, 383, 25472, 293, 15778, 11, 23148, 385, 281, 1499, 13956, 293, 38481, 4722, 6547, 13, 51046], 'temperature': 0.0, 'avg_logprob': -0.2169403330485026, 'compression_ratio': 1.516260162601626, 'no_speech_prob': 0.0002759568451438099}, {'id': 13, 'seek': 5448, 'start': 68.12, 'end': 73.28, 'text': ' The field of computer science is characterized by a collaborative nature and I am excited', 'tokens': [51046, 440, 2519, 295, 3820, 3497, 307, 29361, 538, 257, 16555, 3687, 293, 286, 669, 2919, 51304], 'temperature': 0.0, 'avg_logprob': -0.2169403330485026, 'compression_ratio': 1.516260162601626, 'no_speech_prob': 0.0002759568451438099}, {'id': 14, 'seek': 5448, 'start': 73.28, 'end': 79.4, 'text': ' to work with interdisciplinary teams to create innovative applications that addresses', 'tokens': [51304, 281, 589, 365, 38280, 5491, 281, 1884, 12999, 5821, 300, 16862, 51610], 'temperature': 0.0, 'avg_logprob': -0.2169403330485026, 'compression_ratio': 1.516260162601626, 'no_speech_prob': 0.0002759568451438099}, {'id': 15, 'seek': 5448, 'start': 79.4, 'end': 81.92, 'text': ' real world problems.', 'tokens': [51610, 957, 1002, 2740, 13, 51736], 'temperature': 0.0, 'avg_logprob': -0.2169403330485026, 'compression_ratio': 1.516260162601626, 'no_speech_prob': 0.0002759568451438099}, {'id': 16, 'seek': 8192, 'start': 81.92, 'end': 87.08, 'text': ' Through internships and hands-on projects, I have gained practical experience as software', 'tokens': [50364, 8927, 35712, 293, 2377, 12, 266, 4455, 11, 286, 362, 12634, 8496, 1752, 382, 4722, 50622], 'temperature': 0.0, 'avg_logprob': -0.28862618177365035, 'compression_ratio': 1.592885375494071, 'no_speech_prob': 0.023650046437978745}, {'id': 17, 'seek': 8192, 'start': 87.08, 'end': 93.72, 'text': ' development, methodologies, version control systems and agile practices ensuring efficient', 'tokens': [50622, 3250, 11, 3170, 6204, 11, 3037, 1969, 3652, 293, 30072, 7525, 16882, 7148, 50954], 'temperature': 0.0, 'avg_logprob': -0.28862618177365035, 'compression_ratio': 1.592885375494071, 'no_speech_prob': 0.023650046437978745}, {'id': 18, 'seek': 8192, 'start': 93.72, 'end': 95.68, 'text': ' and collaborative teamwork.', 'tokens': [50954, 293, 16555, 30015, 13, 51052], 'temperature': 0.0, 'avg_logprob': -0.28862618177365035, 'compression_ratio': 1.592885375494071, 'no_speech_prob': 0.023650046437978745}, {'id': 19, 'seek': 8192, 'start': 95.68, 'end': 99.88, 'text': ' I am particularly interested in the fields of artificial intelligence, machine learning', 'tokens': [51052, 286, 669, 4098, 3102, 294, 264, 7909, 295, 11677, 7599, 11, 3479, 2539, 51262], 'temperature': 0.0, 'avg_logprob': -0.28862618177365035, 'compression_ratio': 1.592885375494071, 'no_speech_prob': 0.023650046437978745}, {'id': 20, 'seek': 8192, 'start': 99.88, 'end': 105.32000000000001, 'text': ' and data science, which have the potential to revolutionize industries and shape the future', 'tokens': [51262, 293, 1412, 3497, 11, 597, 362, 264, 3995, 281, 8894, 1125, 13284, 293, 3909, 264, 2027, 51534], 'temperature': 0.0, 'avg_logprob': -0.28862618177365035, 'compression_ratio': 1.592885375494071, 'no_speech_prob': 0.023650046437978745}, {'id': 21, 'seek': 8192, 'start': 105.32000000000001, 'end': 106.88, 'text': ' of technology.', 'tokens': [51534, 295, 2899, 13, 51612], 'temperature': 0.0, 'avg_logprob': -0.28862618177365035, 'compression_ratio': 1.592885375494071, 'no_speech_prob': 0.023650046437978745}, {'id': 22, 'seek': 10688, 'start': 106.88, 'end': 113.72, 'text': ' The exponential growth of data and the powerful algorithms have fueled my desire to explore', 'tokens': [50364, 440, 21510, 4599, 295, 1412, 293, 264, 4005, 14642, 362, 45446, 452, 7516, 281, 6839, 50706], 'temperature': 0.0, 'avg_logprob': -0.20937044355604384, 'compression_ratio': 1.6113207547169812, 'no_speech_prob': 0.03863968700170517}, {'id': 23, 'seek': 10688, 'start': 113.72, 'end': 118.96, 'text': ' the realms of data analysis, pattern recognition and intelligent decision making.', 'tokens': [50706, 264, 42824, 295, 1412, 5215, 11, 5102, 11150, 293, 13232, 3537, 1455, 13, 50968], 'temperature': 0.0, 'avg_logprob': -0.20937044355604384, 'compression_ratio': 1.6113207547169812, 'no_speech_prob': 0.03863968700170517}, {'id': 24, 'seek': 10688, 'start': 118.96, 'end': 124.72, 'text': ' I think the computer science is not just about writing code, it is about developing elegant', 'tokens': [50968, 286, 519, 264, 3820, 3497, 307, 406, 445, 466, 3579, 3089, 11, 309, 307, 466, 6416, 21117, 51256], 'temperature': 0.0, 'avg_logprob': -0.20937044355604384, 'compression_ratio': 1.6113207547169812, 'no_speech_prob': 0.03863968700170517}, {'id': 25, 'seek': 10688, 'start': 124.72, 'end': 131.76, 'text': ' and efficient solutions to optimize processes, enhance user experience and make a positive', 'tokens': [51256, 293, 7148, 6547, 281, 19719, 7555, 11, 11985, 4195, 1752, 293, 652, 257, 3353, 51608], 'temperature': 0.0, 'avg_logprob': -0.20937044355604384, 'compression_ratio': 1.6113207547169812, 'no_speech_prob': 0.03863968700170517}, {'id': 26, 'seek': 10688, 'start': 131.76, 'end': 133.48, 'text': ' impact on society.', 'tokens': [51608, 2712, 322, 4086, 13, 51694], 'temperature': 0.0, 'avg_logprob': -0.20937044355604384, 'compression_ratio': 1.6113207547169812, 'no_speech_prob': 0.03863968700170517}, {'id': 27, 'seek': 10688, 'start': 133.48, 'end': 136.48, 'text': ' I am up for any challenge you present me at my job.', 'tokens': [51694, 286, 669, 493, 337, 604, 3430, 291, 1974, 385, 412, 452, 1691, 13, 51844], 'temperature': 0.0, 'avg_logprob': -0.20937044355604384, 'compression_ratio': 1.6113207547169812, 'no_speech_prob': 0.03863968700170517}, {'id': 28, 'seek': 13648, 'start': 136.48, 'end': 137.07999999999998, 'text': ' Thank you.', 'tokens': [50368, 1044, 291, 13, 50394], 'temperature': 0.0, 'avg_logprob': -0.6367031335830688, 'compression_ratio': 0.5555555555555556, 'no_speech_prob': 0.12126113474369049}]\n"
          ]
        }
      ]
    },
    {
      "cell_type": "code",
      "source": [
        "for segment in result['segments']:\n",
        "  print(segment['start'], '-', segment['end'])"
      ],
      "metadata": {
        "colab": {
          "base_uri": "https://localhost:8080/"
        },
        "id": "LrWMB5ChakX_",
        "outputId": "62148bfc-9d7a-41a0-c973-9a2e1cd6e4a1"
      },
      "execution_count": 29,
      "outputs": [
        {
          "output_type": "stream",
          "name": "stdout",
          "text": [
            "0.0 - 5.36\n",
            "5.36 - 11.88\n",
            "11.88 - 16.48\n",
            "16.48 - 21.88\n",
            "21.88 - 27.0\n",
            "27.0 - 32.84\n",
            "32.84 - 37.16\n",
            "37.16 - 40.96\n",
            "40.96 - 47.56\n",
            "47.56 - 52.68\n",
            "52.68 - 54.480000000000004\n",
            "54.48 - 60.8\n",
            "60.8 - 68.12\n",
            "68.12 - 73.28\n",
            "73.28 - 79.4\n",
            "79.4 - 81.92\n",
            "81.92 - 87.08\n",
            "87.08 - 93.72\n",
            "93.72 - 95.68\n",
            "95.68 - 99.88\n",
            "99.88 - 105.32000000000001\n",
            "105.32000000000001 - 106.88\n",
            "106.88 - 113.72\n",
            "113.72 - 118.96\n",
            "118.96 - 124.72\n",
            "124.72 - 131.76\n",
            "131.76 - 133.48\n",
            "133.48 - 136.48\n",
            "136.48 - 137.07999999999998\n"
          ]
        }
      ]
    },
    {
      "cell_type": "code",
      "source": [
        "for segment in result['segments']:\n",
        "  print(segment['text'], \"*\")"
      ],
      "metadata": {
        "colab": {
          "base_uri": "https://localhost:8080/"
        },
        "id": "BfMIAJmgXx6e",
        "outputId": "f45b9f60-6b0e-4be2-df50-f9e14cb4c31a"
      },
      "execution_count": 17,
      "outputs": [
        {
          "output_type": "stream",
          "name": "stdout",
          "text": [
            " Hello, my name is Prasjant and I am going to graduate with an engineering degree in computer *\n",
            " science, ready to embark on a journey of continuous learning and technological advancement. *\n",
            " Throughout my college-journal computer science, I have acquired a comprehensive understanding *\n",
            " of algorithms, data structures, software development and system design. *\n",
            " The dynamic nature of computer science has allowed me to embrace challenges, adapt to *\n",
            " new technologies and constantly stay at the forefront of innovation. *\n",
            " With the Solid Foundation in Computer Science principles in the programming, I am equipped *\n",
            " to navigate the landscape and tackle complex problems head on. *\n",
            " As the computer science graduate, I possess strong problem-solving skills, a logical mindset *\n",
            " and the ability to think critically, which are essential in navigating the complexities *\n",
            " of the digital era. *\n",
            " I am proficient in multiple programming languages, including but not limited to Python, Java, *\n",
            " C++ and JavaScript, enabling me to develop robust and scalable software solutions. *\n",
            " The field of computer science is characterized by a collaborative nature and I am excited *\n",
            " to work with interdisciplinary teams to create innovative applications that addresses *\n",
            " real world problems. *\n",
            " Through internships and hands-on projects, I have gained practical experience as software *\n",
            " development, methodologies, version control systems and agile practices ensuring efficient *\n",
            " and collaborative teamwork. *\n",
            " I am particularly interested in the fields of artificial intelligence, machine learning *\n",
            " and data science, which have the potential to revolutionize industries and shape the future *\n",
            " of technology. *\n",
            " The exponential growth of data and the powerful algorithms have fueled my desire to explore *\n",
            " the realms of data analysis, pattern recognition and intelligent decision making. *\n",
            " I think the computer science is not just about writing code, it is about developing elegant *\n",
            " and efficient solutions to optimize processes, enhance user experience and make a positive *\n",
            " impact on society. *\n",
            " I am up for any challenge you present me at my job. *\n",
            " Thank you. *\n"
          ]
        }
      ]
    },
    {
      "cell_type": "code",
      "source": [
        "import pprint"
      ],
      "metadata": {
        "id": "l_vbYViPZdss"
      },
      "execution_count": 22,
      "outputs": []
    },
    {
      "cell_type": "code",
      "source": [
        "sentences = []\n",
        "json_sentence = []\n",
        "\n",
        "tmp = \"\"\n",
        "start_time = result['segments'][0]['start']\n",
        "end_time = result['segments'][0]['end']\n",
        "\n",
        "for segment in result['segments']:\n",
        "  tmp += segment['text']\n",
        "  if \".\" in segment['text']:\n",
        "    sentences.append(tmp)\n",
        "    end_time = segment['end']\n",
        "    json_sentence.append({'start': start_time, 'end': end_time, 'sentence': tmp})\n",
        "    tmp = \"\"\n",
        "    start_time = end_time\n",
        "\n",
        "sentence_num = len(sentences)\n",
        "\n",
        "print('The number of sentence is : ', sentence_num)\n",
        "pprint.pprint(json_sentence)\n",
        "\n",
        ""
      ],
      "metadata": {
        "colab": {
          "base_uri": "https://localhost:8080/"
        },
        "id": "INyZIBe5Y4-5",
        "outputId": "147b5a2a-5234-493d-a631-9712ea0dcbe1"
      },
      "execution_count": 33,
      "outputs": [
        {
          "output_type": "stream",
          "name": "stdout",
          "text": [
            "The number of sentence is :  13\n",
            "[{'end': 11.88,\n",
            "  'sentence': ' Hello, my name is Prasjant and I am going to graduate with an '\n",
            "              'engineering degree in computer science, ready to embark on a '\n",
            "              'journey of continuous learning and technological advancement.',\n",
            "  'start': 0.0},\n",
            " {'end': 21.88,\n",
            "  'sentence': ' Throughout my college-journal computer science, I have '\n",
            "              'acquired a comprehensive understanding of algorithms, data '\n",
            "              'structures, software development and system design.',\n",
            "  'start': 11.88},\n",
            " {'end': 32.84,\n",
            "  'sentence': ' The dynamic nature of computer science has allowed me to '\n",
            "              'embrace challenges, adapt to new technologies and constantly '\n",
            "              'stay at the forefront of innovation.',\n",
            "  'start': 21.88},\n",
            " {'end': 40.96,\n",
            "  'sentence': ' With the Solid Foundation in Computer Science principles in '\n",
            "              'the programming, I am equipped to navigate the landscape and '\n",
            "              'tackle complex problems head on.',\n",
            "  'start': 32.84},\n",
            " {'end': 54.480000000000004,\n",
            "  'sentence': ' As the computer science graduate, I possess strong '\n",
            "              'problem-solving skills, a logical mindset and the ability to '\n",
            "              'think critically, which are essential in navigating the '\n",
            "              'complexities of the digital era.',\n",
            "  'start': 40.96},\n",
            " {'end': 68.12,\n",
            "  'sentence': ' I am proficient in multiple programming languages, including '\n",
            "              'but not limited to Python, Java, C++ and JavaScript, enabling '\n",
            "              'me to develop robust and scalable software solutions.',\n",
            "  'start': 54.480000000000004},\n",
            " {'end': 81.92,\n",
            "  'sentence': ' The field of computer science is characterized by a '\n",
            "              'collaborative nature and I am excited to work with '\n",
            "              'interdisciplinary teams to create innovative applications that '\n",
            "              'addresses real world problems.',\n",
            "  'start': 68.12},\n",
            " {'end': 95.68,\n",
            "  'sentence': ' Through internships and hands-on projects, I have gained '\n",
            "              'practical experience as software development, methodologies, '\n",
            "              'version control systems and agile practices ensuring efficient '\n",
            "              'and collaborative teamwork.',\n",
            "  'start': 81.92},\n",
            " {'end': 106.88,\n",
            "  'sentence': ' I am particularly interested in the fields of artificial '\n",
            "              'intelligence, machine learning and data science, which have the '\n",
            "              'potential to revolutionize industries and shape the future of '\n",
            "              'technology.',\n",
            "  'start': 95.68},\n",
            " {'end': 118.96,\n",
            "  'sentence': ' The exponential growth of data and the powerful algorithms '\n",
            "              'have fueled my desire to explore the realms of data analysis, '\n",
            "              'pattern recognition and intelligent decision making.',\n",
            "  'start': 106.88},\n",
            " {'end': 133.48,\n",
            "  'sentence': ' I think the computer science is not just about writing code, '\n",
            "              'it is about developing elegant and efficient solutions to '\n",
            "              'optimize processes, enhance user experience and make a positive '\n",
            "              'impact on society.',\n",
            "  'start': 118.96},\n",
            " {'end': 136.48,\n",
            "  'sentence': ' I am up for any challenge you present me at my job.',\n",
            "  'start': 133.48},\n",
            " {'end': 137.07999999999998, 'sentence': ' Thank you.', 'start': 136.48}]\n"
          ]
        }
      ]
    },
    {
      "cell_type": "code",
      "source": [
        "json_sentence_data = json.dumps(json_sentence)\n",
        "with open('sentence_json_data.json', 'w') as outfile:\n",
        "    outfile.write(json_sentence_data)\n",
        ""
      ],
      "metadata": {
        "id": "TPUK13jSZjNM"
      },
      "execution_count": 47,
      "outputs": []
    },
    {
      "cell_type": "markdown",
      "source": [
        "## Count the number of words and timestamps"
      ],
      "metadata": {
        "id": "9UfmasO5cEti"
      }
    },
    {
      "cell_type": "markdown",
      "source": [
        "### Using VOSK model"
      ],
      "metadata": {
        "id": "mKuwM6H_cVX5"
      }
    },
    {
      "cell_type": "code",
      "source": [
        "!unzip vosk-model-en-in-0.5.zip"
      ],
      "metadata": {
        "colab": {
          "base_uri": "https://localhost:8080/"
        },
        "id": "9zHreLHbcx1q",
        "outputId": "defdd0e1-d2a7-4f1c-feb3-156b0a404650"
      },
      "execution_count": 34,
      "outputs": [
        {
          "output_type": "stream",
          "name": "stdout",
          "text": [
            "Archive:  vosk-model-en-in-0.5.zip\n",
            "   creating: vosk-model-en-in-0.5/\n",
            "   creating: vosk-model-en-in-0.5/am/\n",
            " extracting: vosk-model-en-in-0.5/am/frame_subsampling_factor  \n",
            "  inflating: vosk-model-en-in-0.5/am/final.mdl  \n",
            "   creating: vosk-model-en-in-0.5/ivector/\n",
            "  inflating: vosk-model-en-in-0.5/ivector/ivector.conf  \n",
            "  inflating: vosk-model-en-in-0.5/ivector/final.dubm  \n",
            "  inflating: vosk-model-en-in-0.5/ivector/final.ie  \n",
            "  inflating: vosk-model-en-in-0.5/ivector/final.mat  \n",
            "  inflating: vosk-model-en-in-0.5/ivector/splice.conf  \n",
            "  inflating: vosk-model-en-in-0.5/ivector/global_cmvn.stats  \n",
            "  inflating: vosk-model-en-in-0.5/ivector/online_cmvn.conf  \n",
            "  inflating: vosk-model-en-in-0.5/README  \n",
            "   creating: vosk-model-en-in-0.5/conf/\n",
            "  inflating: vosk-model-en-in-0.5/conf/mfcc.conf  \n",
            "  inflating: vosk-model-en-in-0.5/conf/model.conf  \n",
            "   creating: vosk-model-en-in-0.5/graph/\n",
            "   creating: vosk-model-en-in-0.5/graph/phones/\n",
            "  inflating: vosk-model-en-in-0.5/graph/phones/word_boundary.int  \n",
            "  inflating: vosk-model-en-in-0.5/graph/HCLG.fst  \n",
            "  inflating: vosk-model-en-in-0.5/graph/words.txt  \n",
            "   creating: vosk-model-en-in-0.5/rescore/\n",
            "  inflating: vosk-model-en-in-0.5/rescore/G.carpa  \n",
            "  inflating: vosk-model-en-in-0.5/rescore/G.fst  \n"
          ]
        }
      ]
    },
    {
      "cell_type": "code",
      "source": [
        "!pip install vosk"
      ],
      "metadata": {
        "colab": {
          "base_uri": "https://localhost:8080/"
        },
        "id": "lopqlOmwdYFp",
        "outputId": "61e07a27-205b-4b27-c33d-a8a7d152bdd2"
      },
      "execution_count": 36,
      "outputs": [
        {
          "output_type": "stream",
          "name": "stdout",
          "text": [
            "Looking in indexes: https://pypi.org/simple, https://us-python.pkg.dev/colab-wheels/public/simple/\n",
            "Collecting vosk\n",
            "  Downloading vosk-0.3.45-py3-none-manylinux_2_12_x86_64.manylinux2010_x86_64.whl (7.2 MB)\n",
            "\u001b[2K     \u001b[90m━━━━━━━━━━━━━━━━━━━━━━━━━━━━━━━━━━━━━━━━\u001b[0m \u001b[32m7.2/7.2 MB\u001b[0m \u001b[31m40.7 MB/s\u001b[0m eta \u001b[36m0:00:00\u001b[0m\n",
            "\u001b[?25hRequirement already satisfied: cffi>=1.0 in /usr/local/lib/python3.10/dist-packages (from vosk) (1.15.1)\n",
            "Requirement already satisfied: requests in /usr/local/lib/python3.10/dist-packages (from vosk) (2.27.1)\n",
            "Requirement already satisfied: tqdm in /usr/local/lib/python3.10/dist-packages (from vosk) (4.65.0)\n",
            "Collecting srt (from vosk)\n",
            "  Downloading srt-3.5.3.tar.gz (28 kB)\n",
            "  Preparing metadata (setup.py) ... \u001b[?25l\u001b[?25hdone\n",
            "Collecting websockets (from vosk)\n",
            "  Downloading websockets-11.0.3-cp310-cp310-manylinux_2_5_x86_64.manylinux1_x86_64.manylinux_2_17_x86_64.manylinux2014_x86_64.whl (129 kB)\n",
            "\u001b[2K     \u001b[90m━━━━━━━━━━━━━━━━━━━━━━━━━━━━━━━━━━━━━━\u001b[0m \u001b[32m129.9/129.9 kB\u001b[0m \u001b[31m12.4 MB/s\u001b[0m eta \u001b[36m0:00:00\u001b[0m\n",
            "\u001b[?25hRequirement already satisfied: pycparser in /usr/local/lib/python3.10/dist-packages (from cffi>=1.0->vosk) (2.21)\n",
            "Requirement already satisfied: urllib3<1.27,>=1.21.1 in /usr/local/lib/python3.10/dist-packages (from requests->vosk) (1.26.15)\n",
            "Requirement already satisfied: certifi>=2017.4.17 in /usr/local/lib/python3.10/dist-packages (from requests->vosk) (2022.12.7)\n",
            "Requirement already satisfied: charset-normalizer~=2.0.0 in /usr/local/lib/python3.10/dist-packages (from requests->vosk) (2.0.12)\n",
            "Requirement already satisfied: idna<4,>=2.5 in /usr/local/lib/python3.10/dist-packages (from requests->vosk) (3.4)\n",
            "Building wheels for collected packages: srt\n",
            "  Building wheel for srt (setup.py) ... \u001b[?25l\u001b[?25hdone\n",
            "  Created wheel for srt: filename=srt-3.5.3-py3-none-any.whl size=22428 sha256=e39bbc3c35546db350ff611a98dcd0fc0a536060d09c683e1e0da3dd21db6e61\n",
            "  Stored in directory: /root/.cache/pip/wheels/d7/31/a1/18e1e7e8bfdafd19e6803d7eb919b563dd11de380e4304e332\n",
            "Successfully built srt\n",
            "Installing collected packages: websockets, srt, vosk\n",
            "Successfully installed srt-3.5.3 vosk-0.3.45 websockets-11.0.3\n"
          ]
        }
      ]
    },
    {
      "cell_type": "code",
      "source": [
        "class Word:\n",
        "    ''' A class representing a word from the JSON format for vosk speech recognition API '''\n",
        "\n",
        "    def __init__(self, dict):\n",
        "        '''\n",
        "        Parameters:\n",
        "          dict (dict) dictionary from JSON, containing:\n",
        "            conf (float): degree of confidence, from 0 to 1\n",
        "            end (float): end time of the pronouncing the word, in seconds\n",
        "            start (float): start time of the pronouncing the word, in seconds\n",
        "            word (str): recognized word\n",
        "        '''\n",
        "\n",
        "        self.conf = dict[\"conf\"]\n",
        "        self.end = dict[\"end\"]\n",
        "        self.start = dict[\"start\"]\n",
        "        self.word = dict[\"word\"]\n",
        "\n",
        "    def to_string(self):\n",
        "        ''' Returns a string describing this instance '''\n",
        "        return \"{:20} from {:.2f} sec to {:.2f} sec, confidence is {:.2f}%\".format(\n",
        "            self.word, self.start, self.end, self.conf*100)"
      ],
      "metadata": {
        "id": "AILxUVa7dqpc"
      },
      "execution_count": 38,
      "outputs": []
    },
    {
      "cell_type": "code",
      "source": [
        "import wave\n",
        "import json\n",
        "\n",
        "from vosk import Model, KaldiRecognizer, SetLogLevel\n",
        "# from .Word import Word as custom_Word\n",
        "\n",
        "model_path = \"vosk-model-en-in-0.5\""
      ],
      "metadata": {
        "id": "Rc9BhofedV41"
      },
      "execution_count": 41,
      "outputs": []
    },
    {
      "cell_type": "code",
      "source": [
        "audio_filename = \"converted_e29i0_ShanIndaAMAccent_enhanced_resampled_mono.wav\"\n",
        "\n",
        "model = Model(model_path)\n",
        "wf = wave.open(audio_filename, \"rb\")\n",
        "rec = KaldiRecognizer(model, wf.getframerate())\n",
        "rec.SetWords(True)\n",
        "\n",
        "# get the list of JSON dictionaries\n",
        "results = []\n",
        "\n",
        "# recognize speech using vosk model\n",
        "while True:\n",
        "    data = wf.readframes(4000)\n",
        "    if len(data) == 0:\n",
        "        break\n",
        "    if rec.AcceptWaveform(data):\n",
        "        part_result = json.loads(rec.Result())\n",
        "        results.append(part_result)\n",
        "part_result = json.loads(rec.FinalResult())\n",
        "results.append(part_result)\n",
        "\n",
        "# convert list of JSON dictionaries to list of 'Word' objects\n",
        "list_of_Words = []\n",
        "for sentence in results:\n",
        "    if len(sentence) == 1:\n",
        "        # sometimes there are bugs in recognition\n",
        "        # and it returns an empty dictionary\n",
        "        # {'text': ''}\n",
        "        continue\n",
        "    for obj in sentence['result']:\n",
        "        w = Word(obj)  # create custom Word object\n",
        "        list_of_Words.append(w)  # and add it to list\n",
        "\n",
        "wf.close()  # close audiofile\n",
        "\n",
        "# output to the screen\n",
        "\n",
        "word_num = len(list_of_Words)\n",
        "json_words = []\n",
        "for word in list_of_Words:\n",
        "    # print(word.to_string())\n",
        "    json_words.append({'start': word.start, 'end': word.end, 'word': word.word})\n",
        "\n",
        "print(json_words)\n"
      ],
      "metadata": {
        "colab": {
          "base_uri": "https://localhost:8080/"
        },
        "id": "hdwgVIJNdwGz",
        "outputId": "25bc59df-3a7a-45a6-cecc-5216520e5fc2"
      },
      "execution_count": 43,
      "outputs": [
        {
          "output_type": "stream",
          "name": "stdout",
          "text": [
            "hello                from 0.48 sec to 0.90 sec, confidence is 100.00%\n",
            "my                   from 0.93 sec to 1.08 sec, confidence is 100.00%\n",
            "name                 from 1.08 sec to 1.23 sec, confidence is 94.44%\n",
            "is                   from 1.23 sec to 1.32 sec, confidence is 92.70%\n",
            "prasanth             from 1.32 sec to 1.98 sec, confidence is 27.80%\n",
            "and                  from 2.37 sec to 2.55 sec, confidence is 95.23%\n",
            "i'm                  from 2.55 sec to 2.73 sec, confidence is 68.94%\n",
            "going                from 2.73 sec to 2.88 sec, confidence is 100.00%\n",
            "to                   from 2.88 sec to 2.94 sec, confidence is 100.00%\n",
            "graduate             from 2.94 sec to 3.69 sec, confidence is 100.00%\n",
            "with                 from 3.75 sec to 3.96 sec, confidence is 100.00%\n",
            "an                   from 3.96 sec to 4.02 sec, confidence is 99.99%\n",
            "engineering          from 4.02 sec to 4.47 sec, confidence is 100.00%\n",
            "degree               from 4.47 sec to 4.89 sec, confidence is 100.00%\n",
            "in                   from 4.89 sec to 5.01 sec, confidence is 100.00%\n",
            "computer             from 5.01 sec to 5.40 sec, confidence is 100.00%\n",
            "science              from 5.40 sec to 6.03 sec, confidence is 100.00%\n",
            "ready                from 6.30 sec to 6.69 sec, confidence is 100.00%\n",
            "to                   from 6.69 sec to 6.84 sec, confidence is 100.00%\n",
            "embark               from 6.84 sec to 7.32 sec, confidence is 100.00%\n",
            "on                   from 7.32 sec to 7.47 sec, confidence is 100.00%\n",
            "a                    from 7.47 sec to 7.53 sec, confidence is 99.36%\n",
            "journey              from 7.53 sec to 8.01 sec, confidence is 99.96%\n",
            "of                   from 8.07 sec to 8.28 sec, confidence is 100.00%\n",
            "continuous           from 8.28 sec to 8.70 sec, confidence is 100.00%\n",
            "learning             from 8.70 sec to 9.33 sec, confidence is 100.00%\n",
            "and                  from 9.42 sec to 9.63 sec, confidence is 99.29%\n",
            "technological        from 9.63 sec to 10.26 sec, confidence is 100.00%\n",
            "advancement          from 10.26 sec to 11.01 sec, confidence is 98.86%\n",
            "throughout           from 11.76 sec to 12.21 sec, confidence is 100.00%\n",
            "my                   from 12.21 sec to 12.33 sec, confidence is 100.00%\n",
            "college              from 12.33 sec to 12.72 sec, confidence is 99.73%\n",
            "learning             from 12.72 sec to 12.99 sec, confidence is 25.82%\n",
            "computer             from 12.99 sec to 13.32 sec, confidence is 99.41%\n",
            "science              from 13.32 sec to 14.07 sec, confidence is 99.97%\n",
            "i                    from 14.22 sec to 14.39 sec, confidence is 60.99%\n",
            "have                 from 14.39 sec to 14.52 sec, confidence is 67.17%\n",
            "acquired             from 14.52 sec to 15.09 sec, confidence is 100.00%\n",
            "a                    from 15.09 sec to 15.15 sec, confidence is 99.77%\n",
            "comprehensive        from 15.15 sec to 15.90 sec, confidence is 100.00%\n",
            "understanding        from 15.90 sec to 16.59 sec, confidence is 100.00%\n",
            "of                   from 16.62 sec to 16.77 sec, confidence is 99.54%\n",
            "algorithms           from 16.77 sec to 17.52 sec, confidence is 100.00%\n",
            "data                 from 17.70 sec to 17.97 sec, confidence is 99.43%\n",
            "structures           from 17.97 sec to 18.63 sec, confidence is 99.98%\n",
            "software             from 18.66 sec to 19.11 sec, confidence is 44.37%\n",
            "development          from 19.11 sec to 19.74 sec, confidence is 98.11%\n",
            "and                  from 19.94 sec to 20.16 sec, confidence is 78.96%\n",
            "system               from 20.16 sec to 20.46 sec, confidence is 95.03%\n",
            "design               from 20.46 sec to 21.00 sec, confidence is 99.89%\n",
            "dynamic              from 22.08 sec to 22.47 sec, confidence is 100.00%\n",
            "nature               from 22.47 sec to 22.71 sec, confidence is 99.69%\n",
            "of                   from 22.71 sec to 22.77 sec, confidence is 88.18%\n",
            "computer             from 22.77 sec to 23.10 sec, confidence is 90.83%\n",
            "science              from 23.10 sec to 23.76 sec, confidence is 91.06%\n",
            "has                  from 23.85 sec to 24.03 sec, confidence is 99.56%\n",
            "allowed              from 24.03 sec to 24.48 sec, confidence is 100.00%\n",
            "me                   from 24.48 sec to 24.60 sec, confidence is 100.00%\n",
            "to                   from 24.60 sec to 24.93 sec, confidence is 100.00%\n",
            "embrace              from 24.96 sec to 25.38 sec, confidence is 97.85%\n",
            "challenges           from 25.38 sec to 26.10 sec, confidence is 96.60%\n",
            "adapt                from 26.16 sec to 26.82 sec, confidence is 100.00%\n",
            "to                   from 26.88 sec to 27.03 sec, confidence is 100.00%\n",
            "new                  from 27.03 sec to 27.21 sec, confidence is 100.00%\n",
            "technologies         from 27.21 sec to 28.02 sec, confidence is 100.00%\n",
            "and                  from 28.53 sec to 28.71 sec, confidence is 97.85%\n",
            "constantly           from 28.71 sec to 29.34 sec, confidence is 93.76%\n",
            "stay                 from 29.34 sec to 29.91 sec, confidence is 99.78%\n",
            "at                   from 30.30 sec to 30.48 sec, confidence is 100.00%\n",
            "the                  from 30.48 sec to 30.57 sec, confidence is 100.00%\n",
            "forefront            from 30.57 sec to 31.02 sec, confidence is 100.00%\n",
            "of                   from 31.02 sec to 31.11 sec, confidence is 100.00%\n",
            "innovation           from 31.11 sec to 31.68 sec, confidence is 100.00%\n",
            "with                 from 32.73 sec to 32.91 sec, confidence is 96.46%\n",
            "a                    from 32.91 sec to 32.97 sec, confidence is 97.20%\n",
            "solid                from 32.97 sec to 33.24 sec, confidence is 98.32%\n",
            "foundation           from 33.24 sec to 33.84 sec, confidence is 100.00%\n",
            "computer             from 33.84 sec to 34.14 sec, confidence is 100.00%\n",
            "science              from 34.14 sec to 34.56 sec, confidence is 100.00%\n",
            "principles           from 34.56 sec to 35.07 sec, confidence is 99.75%\n",
            "and                  from 35.07 sec to 35.18 sec, confidence is 78.15%\n",
            "programming          from 35.19 sec to 35.88 sec, confidence is 95.42%\n",
            "and                  from 36.36 sec to 36.63 sec, confidence is 76.05%\n",
            "quipped              from 36.68 sec to 37.08 sec, confidence is 41.81%\n",
            "navigate             from 37.17 sec to 37.95 sec, confidence is 100.00%\n",
            "the                  from 38.07 sec to 38.22 sec, confidence is 99.90%\n",
            "landscape            from 38.22 sec to 38.88 sec, confidence is 100.00%\n",
            "and                  from 38.91 sec to 39.09 sec, confidence is 98.30%\n",
            "tackle               from 39.09 sec to 39.48 sec, confidence is 99.89%\n",
            "complex              from 39.48 sec to 39.93 sec, confidence is 99.99%\n",
            "problems             from 39.93 sec to 40.41 sec, confidence is 100.00%\n",
            "head                 from 40.41 sec to 40.62 sec, confidence is 66.67%\n",
            "on                   from 40.67 sec to 40.97 sec, confidence is 99.37%\n",
            "the                  from 41.73 sec to 41.82 sec, confidence is 92.57%\n",
            "computer             from 41.82 sec to 42.15 sec, confidence is 77.33%\n",
            "scratch              from 42.39 sec to 42.84 sec, confidence is 76.44%\n",
            "raid                 from 42.84 sec to 43.17 sec, confidence is 43.10%\n",
            "i                    from 43.44 sec to 43.59 sec, confidence is 93.85%\n",
            "possess              from 43.59 sec to 44.22 sec, confidence is 95.00%\n",
            "strong               from 44.25 sec to 44.82 sec, confidence is 100.00%\n",
            "problem-solving      from 44.82 sec to 45.48 sec, confidence is 99.49%\n",
            "skills               from 45.48 sec to 46.11 sec, confidence is 100.00%\n",
            "logical              from 46.44 sec to 46.89 sec, confidence is 100.00%\n",
            "mindset              from 46.89 sec to 47.52 sec, confidence is 88.66%\n",
            "and                  from 47.55 sec to 47.82 sec, confidence is 98.64%\n",
            "ability              from 47.85 sec to 48.27 sec, confidence is 100.00%\n",
            "to                   from 48.27 sec to 48.39 sec, confidence is 100.00%\n",
            "think                from 48.39 sec to 48.66 sec, confidence is 100.00%\n",
            "critically           from 48.66 sec to 49.14 sec, confidence is 100.00%\n",
            "in                   from 50.55 sec to 50.66 sec, confidence is 30.15%\n",
            "navigating           from 50.66 sec to 51.42 sec, confidence is 99.99%\n",
            "the                  from 51.63 sec to 51.75 sec, confidence is 100.00%\n",
            "complexities         from 51.75 sec to 52.53 sec, confidence is 100.00%\n",
            "of                   from 52.65 sec to 52.98 sec, confidence is 100.00%\n",
            "the                  from 52.98 sec to 53.07 sec, confidence is 95.14%\n",
            "digital              from 53.07 sec to 53.34 sec, confidence is 94.85%\n",
            "era                  from 53.34 sec to 53.70 sec, confidence is 93.47%\n",
            "am                   from 54.45 sec to 54.66 sec, confidence is 62.35%\n",
            "proficient           from 54.66 sec to 55.26 sec, confidence is 100.00%\n",
            "in                   from 55.26 sec to 55.41 sec, confidence is 100.00%\n",
            "multiple             from 55.41 sec to 55.89 sec, confidence is 100.00%\n",
            "programming          from 55.89 sec to 56.37 sec, confidence is 100.00%\n",
            "languages            from 56.37 sec to 57.12 sec, confidence is 100.00%\n",
            "including            from 57.27 sec to 57.99 sec, confidence is 100.00%\n",
            "but                  from 58.08 sec to 58.23 sec, confidence is 100.00%\n",
            "not                  from 58.23 sec to 58.50 sec, confidence is 100.00%\n",
            "limited              from 58.50 sec to 58.86 sec, confidence is 100.00%\n",
            "to                   from 58.86 sec to 58.98 sec, confidence is 100.00%\n",
            "python               from 58.98 sec to 59.55 sec, confidence is 90.76%\n",
            "java                 from 60.00 sec to 60.54 sec, confidence is 42.63%\n",
            "c                    from 60.69 sec to 61.02 sec, confidence is 98.88%\n",
            "plus                 from 61.02 sec to 61.26 sec, confidence is 99.78%\n",
            "plus                 from 61.26 sec to 61.68 sec, confidence is 99.78%\n",
            "and                  from 61.92 sec to 62.07 sec, confidence is 44.10%\n",
            "javascript           from 62.07 sec to 62.91 sec, confidence is 100.00%\n",
            "enabling             from 63.27 sec to 63.81 sec, confidence is 99.12%\n",
            "me                   from 63.81 sec to 64.11 sec, confidence is 98.61%\n",
            "to                   from 64.17 sec to 64.31 sec, confidence is 79.67%\n",
            "develop              from 64.31 sec to 64.68 sec, confidence is 95.73%\n",
            "robust               from 64.74 sec to 65.40 sec, confidence is 100.00%\n",
            "scalable             from 65.49 sec to 66.09 sec, confidence is 100.00%\n",
            "software             from 66.09 sec to 66.51 sec, confidence is 85.90%\n",
            "solutions            from 66.51 sec to 67.20 sec, confidence is 100.00%\n",
            "the                  from 68.04 sec to 68.16 sec, confidence is 81.34%\n",
            "field                from 68.16 sec to 68.49 sec, confidence is 98.71%\n",
            "of                   from 68.49 sec to 68.55 sec, confidence is 99.89%\n",
            "computer             from 68.55 sec to 68.88 sec, confidence is 100.00%\n",
            "science              from 68.88 sec to 69.51 sec, confidence is 100.00%\n",
            "characterised        from 69.88 sec to 70.50 sec, confidence is 69.03%\n",
            "by                   from 70.50 sec to 70.95 sec, confidence is 100.00%\n",
            "its                  from 71.01 sec to 71.22 sec, confidence is 95.11%\n",
            "collaborative        from 71.22 sec to 71.73 sec, confidence is 95.79%\n",
            "nature               from 71.73 sec to 72.30 sec, confidence is 100.00%\n",
            "and                  from 72.57 sec to 72.69 sec, confidence is 96.77%\n",
            "i'm                  from 72.69 sec to 72.78 sec, confidence is 73.09%\n",
            "excited              from 72.78 sec to 73.35 sec, confidence is 100.00%\n",
            "to                   from 73.35 sec to 73.53 sec, confidence is 100.00%\n",
            "work                 from 73.53 sec to 73.92 sec, confidence is 100.00%\n",
            "with                 from 73.98 sec to 74.25 sec, confidence is 100.00%\n",
            "disabilities         from 74.55 sec to 75.28 sec, confidence is 58.16%\n",
            "aims                 from 75.28 sec to 75.57 sec, confidence is 40.84%\n",
            "to                   from 75.57 sec to 75.63 sec, confidence is 30.67%\n",
            "create               from 75.75 sec to 76.35 sec, confidence is 100.00%\n",
            "innovative           from 76.41 sec to 76.89 sec, confidence is 100.00%\n",
            "applications         from 76.89 sec to 77.76 sec, confidence is 100.00%\n",
            "dresses              from 78.31 sec to 78.96 sec, confidence is 54.47%\n",
            "real                 from 79.38 sec to 79.86 sec, confidence is 100.00%\n",
            "world                from 79.89 sec to 80.16 sec, confidence is 100.00%\n",
            "problems             from 80.19 sec to 80.88 sec, confidence is 96.53%\n",
            "internships          from 82.08 sec to 82.74 sec, confidence is 99.33%\n",
            "and                  from 82.89 sec to 83.04 sec, confidence is 97.73%\n",
            "handsome             from 83.04 sec to 83.52 sec, confidence is 78.88%\n",
            "products             from 83.52 sec to 84.21 sec, confidence is 86.75%\n",
            "i've                 from 84.78 sec to 85.08 sec, confidence is 47.10%\n",
            "thanks               from 85.48 sec to 85.77 sec, confidence is 21.94%\n",
            "to                   from 85.77 sec to 85.89 sec, confidence is 64.49%\n",
            "experience           from 85.89 sec to 86.46 sec, confidence is 98.00%\n",
            "a                    from 86.46 sec to 86.55 sec, confidence is 40.62%\n",
            "software             from 86.55 sec to 86.91 sec, confidence is 95.91%\n",
            "development          from 86.91 sec to 87.51 sec, confidence is 100.00%\n",
            "methodologies        from 87.90 sec to 88.83 sec, confidence is 99.28%\n",
            "version              from 89.34 sec to 89.70 sec, confidence is 50.50%\n",
            "control              from 89.70 sec to 90.00 sec, confidence is 100.00%\n",
            "systems              from 90.00 sec to 90.66 sec, confidence is 100.00%\n",
            "and                  from 90.72 sec to 90.93 sec, confidence is 100.00%\n",
            "practices            from 91.29 sec to 92.16 sec, confidence is 99.15%\n",
            "ensuring             from 92.25 sec to 92.94 sec, confidence is 100.00%\n",
            "efficient            from 93.30 sec to 93.78 sec, confidence is 100.00%\n",
            "and                  from 93.78 sec to 93.84 sec, confidence is 95.01%\n",
            "collaborating        from 93.84 sec to 94.50 sec, confidence is 54.64%\n",
            "work                 from 94.50 sec to 94.86 sec, confidence is 100.00%\n",
            "i'm                  from 95.67 sec to 95.88 sec, confidence is 80.72%\n",
            "particular           from 95.88 sec to 96.36 sec, confidence is 47.70%\n",
            "interested           from 96.36 sec to 96.87 sec, confidence is 100.00%\n",
            "in                   from 96.87 sec to 96.96 sec, confidence is 100.00%\n",
            "the                  from 96.96 sec to 97.05 sec, confidence is 100.00%\n",
            "fields               from 97.05 sec to 97.41 sec, confidence is 91.43%\n",
            "of                   from 97.41 sec to 97.56 sec, confidence is 100.00%\n",
            "artificial           from 97.56 sec to 97.92 sec, confidence is 100.00%\n",
            "intelligence         from 97.92 sec to 98.67 sec, confidence is 100.00%\n",
            "machine              from 98.70 sec to 99.09 sec, confidence is 100.00%\n",
            "learning             from 99.09 sec to 99.57 sec, confidence is 100.00%\n",
            "and                  from 99.84 sec to 100.08 sec, confidence is 100.00%\n",
            "data                 from 100.08 sec to 100.29 sec, confidence is 99.89%\n",
            "science              from 100.29 sec to 100.92 sec, confidence is 99.48%\n",
            "which                from 101.37 sec to 101.58 sec, confidence is 98.44%\n",
            "have                 from 101.58 sec to 101.82 sec, confidence is 99.47%\n",
            "the                  from 101.82 sec to 101.91 sec, confidence is 97.98%\n",
            "patel                from 101.91 sec to 102.24 sec, confidence is 74.33%\n",
            "nice                 from 103.08 sec to 103.38 sec, confidence is 49.23%\n",
            "industries           from 103.38 sec to 104.07 sec, confidence is 99.78%\n",
            "and                  from 104.49 sec to 104.64 sec, confidence is 97.46%\n",
            "shape                from 104.64 sec to 104.97 sec, confidence is 98.40%\n",
            "the                  from 104.97 sec to 105.06 sec, confidence is 100.00%\n",
            "future               from 105.06 sec to 105.33 sec, confidence is 100.00%\n",
            "of                   from 105.33 sec to 105.39 sec, confidence is 99.02%\n",
            "technology           from 105.39 sec to 106.10 sec, confidence is 100.00%\n",
            "the                  from 106.80 sec to 106.92 sec, confidence is 72.60%\n",
            "exponential          from 106.92 sec to 107.67 sec, confidence is 100.00%\n",
            "growth               from 107.67 sec to 108.15 sec, confidence is 100.00%\n",
            "of                   from 108.15 sec to 108.36 sec, confidence is 98.96%\n",
            "data                 from 108.36 sec to 108.81 sec, confidence is 72.39%\n",
            "the                  from 109.20 sec to 109.32 sec, confidence is 45.54%\n",
            "power                from 109.32 sec to 109.53 sec, confidence is 48.83%\n",
            "powerful             from 109.53 sec to 109.84 sec, confidence is 45.16%\n",
            "algorithms           from 109.84 sec to 110.58 sec, confidence is 37.65%\n",
            "have                 from 110.76 sec to 110.94 sec, confidence is 99.53%\n",
            "fuelled              from 110.94 sec to 111.33 sec, confidence is 99.70%\n",
            "my                   from 111.33 sec to 111.45 sec, confidence is 99.96%\n",
            "desire               from 111.45 sec to 112.17 sec, confidence is 100.00%\n",
            "to                   from 112.38 sec to 112.50 sec, confidence is 100.00%\n",
            "explore              from 112.50 sec to 113.25 sec, confidence is 99.93%\n",
            "the                  from 113.67 sec to 113.82 sec, confidence is 100.00%\n",
            "realms               from 113.82 sec to 114.24 sec, confidence is 100.00%\n",
            "of                   from 114.24 sec to 114.30 sec, confidence is 99.97%\n",
            "data                 from 114.30 sec to 114.51 sec, confidence is 84.75%\n",
            "analysis             from 114.51 sec to 115.20 sec, confidence is 99.31%\n",
            "pattern              from 115.53 sec to 115.89 sec, confidence is 78.89%\n",
            "recognition          from 115.89 sec to 116.67 sec, confidence is 93.48%\n",
            "and                  from 116.95 sec to 117.12 sec, confidence is 80.70%\n",
            "intelligent          from 117.12 sec to 117.60 sec, confidence is 92.52%\n",
            "decision-making      from 117.60 sec to 118.38 sec, confidence is 77.19%\n",
            "i                    from 118.95 sec to 119.16 sec, confidence is 98.71%\n",
            "think                from 119.16 sec to 119.61 sec, confidence is 100.00%\n",
            "that                 from 119.73 sec to 119.88 sec, confidence is 85.33%\n",
            "computer             from 119.88 sec to 120.24 sec, confidence is 100.00%\n",
            "science              from 120.24 sec to 120.69 sec, confidence is 99.18%\n",
            "is                   from 120.69 sec to 120.84 sec, confidence is 97.78%\n",
            "not                  from 120.84 sec to 121.11 sec, confidence is 100.00%\n",
            "just                 from 121.11 sec to 121.29 sec, confidence is 100.00%\n",
            "about                from 121.29 sec to 121.50 sec, confidence is 99.98%\n",
            "running              from 121.50 sec to 121.74 sec, confidence is 72.91%\n",
            "towed                from 121.74 sec to 122.19 sec, confidence is 30.70%\n",
            "it                   from 122.67 sec to 122.82 sec, confidence is 89.30%\n",
            "is                   from 122.82 sec to 122.91 sec, confidence is 88.96%\n",
            "about                from 122.91 sec to 123.36 sec, confidence is 100.00%\n",
            "developing           from 123.39 sec to 123.99 sec, confidence is 100.00%\n",
            "elegant              from 124.02 sec to 124.59 sec, confidence is 99.81%\n",
            "and                  from 124.74 sec to 124.89 sec, confidence is 97.31%\n",
            "efficient            from 124.89 sec to 125.28 sec, confidence is 99.99%\n",
            "solutions            from 125.28 sec to 125.88 sec, confidence is 99.97%\n",
            "to                   from 126.00 sec to 126.12 sec, confidence is 52.59%\n",
            "optimize             from 126.12 sec to 126.69 sec, confidence is 79.84%\n",
            "processes            from 126.69 sec to 127.53 sec, confidence is 100.00%\n",
            "enhance              from 127.95 sec to 128.73 sec, confidence is 100.00%\n",
            "user                 from 129.12 sec to 129.39 sec, confidence is 100.00%\n",
            "experience           from 129.39 sec to 130.20 sec, confidence is 100.00%\n",
            "and                  from 130.41 sec to 130.59 sec, confidence is 99.88%\n",
            "make                 from 130.59 sec to 131.04 sec, confidence is 100.00%\n",
            "a                    from 131.19 sec to 131.28 sec, confidence is 98.26%\n",
            "positive             from 131.28 sec to 131.79 sec, confidence is 99.75%\n",
            "impact               from 131.79 sec to 132.18 sec, confidence is 99.17%\n",
            "for                  from 132.18 sec to 132.24 sec, confidence is 59.79%\n",
            "suicide              from 132.24 sec to 132.78 sec, confidence is 63.06%\n",
            "i'm                  from 133.47 sec to 133.68 sec, confidence is 64.19%\n",
            "up                   from 133.68 sec to 133.80 sec, confidence is 98.24%\n",
            "for                  from 133.80 sec to 133.95 sec, confidence is 99.94%\n",
            "any                  from 133.95 sec to 134.22 sec, confidence is 99.52%\n",
            "challenge            from 134.22 sec to 134.61 sec, confidence is 99.10%\n",
            "represent            from 134.61 sec to 135.03 sec, confidence is 49.94%\n",
            "me                   from 135.03 sec to 135.33 sec, confidence is 99.71%\n",
            "at                   from 135.54 sec to 135.75 sec, confidence is 100.00%\n",
            "my                   from 135.75 sec to 135.87 sec, confidence is 100.00%\n",
            "job                  from 135.87 sec to 136.23 sec, confidence is 100.00%\n",
            "thank                from 136.53 sec to 136.83 sec, confidence is 100.00%\n",
            "you                  from 136.83 sec to 137.07 sec, confidence is 99.33%\n"
          ]
        }
      ]
    },
    {
      "cell_type": "code",
      "source": [
        "word_num = len(list_of_Words)\n",
        "json_words = []\n",
        "for word in list_of_Words:\n",
        "    # print(word.to_string())\n",
        "    json_words.append({'start': word.start, 'end': word.end, 'word': word.word})\n",
        "\n",
        "print(\"The number of words is : \", len(json_words))\n",
        "print(json_words)"
      ],
      "metadata": {
        "colab": {
          "base_uri": "https://localhost:8080/"
        },
        "id": "qHCHjOsIfViC",
        "outputId": "533dc3e8-9d90-45a2-bf33-f3a81e3cb416"
      },
      "execution_count": 45,
      "outputs": [
        {
          "output_type": "stream",
          "name": "stdout",
          "text": [
            "The number of words is :  286\n",
            "[{'start': 0.48, 'end': 0.9, 'word': 'hello'}, {'start': 0.93, 'end': 1.08, 'word': 'my'}, {'start': 1.08, 'end': 1.23, 'word': 'name'}, {'start': 1.23, 'end': 1.320156, 'word': 'is'}, {'start': 1.320156, 'end': 1.98, 'word': 'prasanth'}, {'start': 2.369857, 'end': 2.549876, 'word': 'and'}, {'start': 2.550666, 'end': 2.73, 'word': \"i'm\"}, {'start': 2.73, 'end': 2.88, 'word': 'going'}, {'start': 2.88, 'end': 2.94, 'word': 'to'}, {'start': 2.94, 'end': 3.69, 'word': 'graduate'}, {'start': 3.75, 'end': 3.96, 'word': 'with'}, {'start': 3.96, 'end': 4.02, 'word': 'an'}, {'start': 4.02, 'end': 4.47, 'word': 'engineering'}, {'start': 4.47, 'end': 4.89, 'word': 'degree'}, {'start': 4.89, 'end': 5.01, 'word': 'in'}, {'start': 5.01, 'end': 5.4, 'word': 'computer'}, {'start': 5.4, 'end': 6.03, 'word': 'science'}, {'start': 6.3, 'end': 6.69, 'word': 'ready'}, {'start': 6.69, 'end': 6.84, 'word': 'to'}, {'start': 6.84, 'end': 7.32, 'word': 'embark'}, {'start': 7.32, 'end': 7.47, 'word': 'on'}, {'start': 7.47, 'end': 7.53, 'word': 'a'}, {'start': 7.53019, 'end': 8.01, 'word': 'journey'}, {'start': 8.07, 'end': 8.28, 'word': 'of'}, {'start': 8.28, 'end': 8.7, 'word': 'continuous'}, {'start': 8.7, 'end': 9.33, 'word': 'learning'}, {'start': 9.42, 'end': 9.63, 'word': 'and'}, {'start': 9.63, 'end': 10.26, 'word': 'technological'}, {'start': 10.26, 'end': 11.01, 'word': 'advancement'}, {'start': 11.76, 'end': 12.21, 'word': 'throughout'}, {'start': 12.21, 'end': 12.33, 'word': 'my'}, {'start': 12.33, 'end': 12.717776, 'word': 'college'}, {'start': 12.719999, 'end': 12.990142, 'word': 'learning'}, {'start': 12.990142, 'end': 13.32, 'word': 'computer'}, {'start': 13.320017, 'end': 14.069987, 'word': 'science'}, {'start': 14.22, 'end': 14.388618, 'word': 'i'}, {'start': 14.388618, 'end': 14.519872, 'word': 'have'}, {'start': 14.519872, 'end': 15.090006, 'word': 'acquired'}, {'start': 15.090006, 'end': 15.15, 'word': 'a'}, {'start': 15.15, 'end': 15.9, 'word': 'comprehensive'}, {'start': 15.9, 'end': 16.59, 'word': 'understanding'}, {'start': 16.62, 'end': 16.77, 'word': 'of'}, {'start': 16.77, 'end': 17.52, 'word': 'algorithms'}, {'start': 17.7, 'end': 17.969923, 'word': 'data'}, {'start': 17.969923, 'end': 18.63, 'word': 'structures'}, {'start': 18.66, 'end': 19.11, 'word': 'software'}, {'start': 19.11, 'end': 19.74, 'word': 'development'}, {'start': 19.944617, 'end': 20.155499, 'word': 'and'}, {'start': 20.160201, 'end': 20.46, 'word': 'system'}, {'start': 20.461278, 'end': 21.0, 'word': 'design'}, {'start': 22.08, 'end': 22.47, 'word': 'dynamic'}, {'start': 22.47, 'end': 22.710822, 'word': 'nature'}, {'start': 22.710822, 'end': 22.77, 'word': 'of'}, {'start': 22.77, 'end': 23.1, 'word': 'computer'}, {'start': 23.1, 'end': 23.76, 'word': 'science'}, {'start': 23.85, 'end': 24.03, 'word': 'has'}, {'start': 24.030049, 'end': 24.48, 'word': 'allowed'}, {'start': 24.48, 'end': 24.6, 'word': 'me'}, {'start': 24.6, 'end': 24.93, 'word': 'to'}, {'start': 24.96, 'end': 25.38, 'word': 'embrace'}, {'start': 25.38, 'end': 26.1, 'word': 'challenges'}, {'start': 26.16, 'end': 26.82, 'word': 'adapt'}, {'start': 26.88, 'end': 27.03, 'word': 'to'}, {'start': 27.03, 'end': 27.21, 'word': 'new'}, {'start': 27.21, 'end': 28.02, 'word': 'technologies'}, {'start': 28.53, 'end': 28.71, 'word': 'and'}, {'start': 28.71, 'end': 29.338757, 'word': 'constantly'}, {'start': 29.338757, 'end': 29.91, 'word': 'stay'}, {'start': 30.3, 'end': 30.48, 'word': 'at'}, {'start': 30.48, 'end': 30.57, 'word': 'the'}, {'start': 30.57, 'end': 31.02, 'word': 'forefront'}, {'start': 31.02, 'end': 31.11, 'word': 'of'}, {'start': 31.11, 'end': 31.68, 'word': 'innovation'}, {'start': 32.73, 'end': 32.910007, 'word': 'with'}, {'start': 32.910007, 'end': 32.969967, 'word': 'a'}, {'start': 32.969967, 'end': 33.24, 'word': 'solid'}, {'start': 33.24, 'end': 33.835708, 'word': 'foundation'}, {'start': 33.84, 'end': 34.14, 'word': 'computer'}, {'start': 34.14, 'end': 34.56, 'word': 'science'}, {'start': 34.56, 'end': 35.07, 'word': 'principles'}, {'start': 35.07, 'end': 35.178574, 'word': 'and'}, {'start': 35.190004, 'end': 35.88, 'word': 'programming'}, {'start': 36.36, 'end': 36.626884, 'word': 'and'}, {'start': 36.683591, 'end': 37.08, 'word': 'quipped'}, {'start': 37.174299, 'end': 37.95, 'word': 'navigate'}, {'start': 38.07, 'end': 38.219978, 'word': 'the'}, {'start': 38.219978, 'end': 38.88, 'word': 'landscape'}, {'start': 38.91, 'end': 39.09, 'word': 'and'}, {'start': 39.090256, 'end': 39.48, 'word': 'tackle'}, {'start': 39.48, 'end': 39.93, 'word': 'complex'}, {'start': 39.93, 'end': 40.41, 'word': 'problems'}, {'start': 40.41, 'end': 40.62, 'word': 'head'}, {'start': 40.674371, 'end': 40.966135, 'word': 'on'}, {'start': 41.730916, 'end': 41.819934, 'word': 'the'}, {'start': 41.819934, 'end': 42.15, 'word': 'computer'}, {'start': 42.385159, 'end': 42.838916, 'word': 'scratch'}, {'start': 42.838916, 'end': 43.17, 'word': 'raid'}, {'start': 43.44, 'end': 43.59, 'word': 'i'}, {'start': 43.590048, 'end': 44.219773, 'word': 'possess'}, {'start': 44.25, 'end': 44.82, 'word': 'strong'}, {'start': 44.82, 'end': 45.48, 'word': 'problem-solving'}, {'start': 45.48, 'end': 46.11, 'word': 'skills'}, {'start': 46.441414, 'end': 46.89, 'word': 'logical'}, {'start': 46.89, 'end': 47.52, 'word': 'mindset'}, {'start': 47.55, 'end': 47.818857, 'word': 'and'}, {'start': 47.85, 'end': 48.27, 'word': 'ability'}, {'start': 48.27, 'end': 48.39, 'word': 'to'}, {'start': 48.39, 'end': 48.66, 'word': 'think'}, {'start': 48.66, 'end': 49.14, 'word': 'critically'}, {'start': 50.552281, 'end': 50.66473, 'word': 'in'}, {'start': 50.66473, 'end': 51.42, 'word': 'navigating'}, {'start': 51.63, 'end': 51.75, 'word': 'the'}, {'start': 51.75, 'end': 52.53, 'word': 'complexities'}, {'start': 52.65, 'end': 52.978993, 'word': 'of'}, {'start': 52.98, 'end': 53.069949, 'word': 'the'}, {'start': 53.069949, 'end': 53.34, 'word': 'digital'}, {'start': 53.34, 'end': 53.698982, 'word': 'era'}, {'start': 54.45, 'end': 54.659828, 'word': 'am'}, {'start': 54.659828, 'end': 55.26, 'word': 'proficient'}, {'start': 55.26, 'end': 55.41, 'word': 'in'}, {'start': 55.41, 'end': 55.89, 'word': 'multiple'}, {'start': 55.89, 'end': 56.37, 'word': 'programming'}, {'start': 56.37, 'end': 57.12, 'word': 'languages'}, {'start': 57.27, 'end': 57.99, 'word': 'including'}, {'start': 58.08, 'end': 58.23, 'word': 'but'}, {'start': 58.23, 'end': 58.5, 'word': 'not'}, {'start': 58.5, 'end': 58.86, 'word': 'limited'}, {'start': 58.86, 'end': 58.98, 'word': 'to'}, {'start': 58.98, 'end': 59.55, 'word': 'python'}, {'start': 60.0, 'end': 60.54, 'word': 'java'}, {'start': 60.69, 'end': 61.02, 'word': 'c'}, {'start': 61.02, 'end': 61.26, 'word': 'plus'}, {'start': 61.26, 'end': 61.68, 'word': 'plus'}, {'start': 61.92, 'end': 62.069956, 'word': 'and'}, {'start': 62.069956, 'end': 62.91, 'word': 'javascript'}, {'start': 63.27, 'end': 63.81, 'word': 'enabling'}, {'start': 63.81, 'end': 64.11, 'word': 'me'}, {'start': 64.17, 'end': 64.311174, 'word': 'to'}, {'start': 64.311174, 'end': 64.679465, 'word': 'develop'}, {'start': 64.74, 'end': 65.4, 'word': 'robust'}, {'start': 65.491465, 'end': 66.091692, 'word': 'scalable'}, {'start': 66.091692, 'end': 66.508411, 'word': 'software'}, {'start': 66.508411, 'end': 67.199912, 'word': 'solutions'}, {'start': 68.04, 'end': 68.156858, 'word': 'the'}, {'start': 68.156858, 'end': 68.489692, 'word': 'field'}, {'start': 68.489692, 'end': 68.549993, 'word': 'of'}, {'start': 68.549993, 'end': 68.88, 'word': 'computer'}, {'start': 68.88, 'end': 69.51, 'word': 'science'}, {'start': 69.882781, 'end': 70.5, 'word': 'characterised'}, {'start': 70.5, 'end': 70.949868, 'word': 'by'}, {'start': 71.01, 'end': 71.22, 'word': 'its'}, {'start': 71.22, 'end': 71.729568, 'word': 'collaborative'}, {'start': 71.729568, 'end': 72.3, 'word': 'nature'}, {'start': 72.57, 'end': 72.691392, 'word': 'and'}, {'start': 72.691392, 'end': 72.779905, 'word': \"i'm\"}, {'start': 72.779905, 'end': 73.35, 'word': 'excited'}, {'start': 73.35, 'end': 73.53, 'word': 'to'}, {'start': 73.53, 'end': 73.92, 'word': 'work'}, {'start': 73.98, 'end': 74.25, 'word': 'with'}, {'start': 74.550352, 'end': 75.282056, 'word': 'disabilities'}, {'start': 75.282056, 'end': 75.572666, 'word': 'aims'}, {'start': 75.572666, 'end': 75.63, 'word': 'to'}, {'start': 75.75, 'end': 76.35, 'word': 'create'}, {'start': 76.41, 'end': 76.89, 'word': 'innovative'}, {'start': 76.89, 'end': 77.76, 'word': 'applications'}, {'start': 78.307339, 'end': 78.96, 'word': 'dresses'}, {'start': 79.38, 'end': 79.86, 'word': 'real'}, {'start': 79.89, 'end': 80.16, 'word': 'world'}, {'start': 80.190029, 'end': 80.88, 'word': 'problems'}, {'start': 82.08, 'end': 82.74, 'word': 'internships'}, {'start': 82.890776, 'end': 83.040527, 'word': 'and'}, {'start': 83.040527, 'end': 83.519868, 'word': 'handsome'}, {'start': 83.520117, 'end': 84.21, 'word': 'products'}, {'start': 84.78, 'end': 85.079839, 'word': \"i've\"}, {'start': 85.47906, 'end': 85.77, 'word': 'thanks'}, {'start': 85.772542, 'end': 85.889714, 'word': 'to'}, {'start': 85.889714, 'end': 86.462974, 'word': 'experience'}, {'start': 86.462974, 'end': 86.549648, 'word': 'a'}, {'start': 86.549648, 'end': 86.909509, 'word': 'software'}, {'start': 86.909509, 'end': 87.51, 'word': 'development'}, {'start': 87.9, 'end': 88.829956, 'word': 'methodologies'}, {'start': 89.34, 'end': 89.7, 'word': 'version'}, {'start': 89.7, 'end': 90.0, 'word': 'control'}, {'start': 90.0, 'end': 90.66, 'word': 'systems'}, {'start': 90.72, 'end': 90.93, 'word': 'and'}, {'start': 91.290205, 'end': 92.159919, 'word': 'practices'}, {'start': 92.250125, 'end': 92.94, 'word': 'ensuring'}, {'start': 93.3, 'end': 93.78, 'word': 'efficient'}, {'start': 93.78, 'end': 93.840051, 'word': 'and'}, {'start': 93.840051, 'end': 94.5, 'word': 'collaborating'}, {'start': 94.5, 'end': 94.86, 'word': 'work'}, {'start': 95.67, 'end': 95.88, 'word': \"i'm\"}, {'start': 95.88, 'end': 96.36, 'word': 'particular'}, {'start': 96.36, 'end': 96.87, 'word': 'interested'}, {'start': 96.87, 'end': 96.96, 'word': 'in'}, {'start': 96.96, 'end': 97.05, 'word': 'the'}, {'start': 97.05, 'end': 97.408301, 'word': 'fields'}, {'start': 97.408301, 'end': 97.56, 'word': 'of'}, {'start': 97.56, 'end': 97.92, 'word': 'artificial'}, {'start': 97.92, 'end': 98.67, 'word': 'intelligence'}, {'start': 98.7, 'end': 99.09, 'word': 'machine'}, {'start': 99.09, 'end': 99.57, 'word': 'learning'}, {'start': 99.84, 'end': 100.08, 'word': 'and'}, {'start': 100.08, 'end': 100.29, 'word': 'data'}, {'start': 100.29, 'end': 100.92, 'word': 'science'}, {'start': 101.37, 'end': 101.58, 'word': 'which'}, {'start': 101.58, 'end': 101.82, 'word': 'have'}, {'start': 101.82, 'end': 101.91, 'word': 'the'}, {'start': 101.910366, 'end': 102.24, 'word': 'patel'}, {'start': 103.080396, 'end': 103.378601, 'word': 'nice'}, {'start': 103.378601, 'end': 104.07, 'word': 'industries'}, {'start': 104.49, 'end': 104.64, 'word': 'and'}, {'start': 104.64, 'end': 104.97, 'word': 'shape'}, {'start': 104.97, 'end': 105.06, 'word': 'the'}, {'start': 105.06, 'end': 105.33011, 'word': 'future'}, {'start': 105.33011, 'end': 105.39, 'word': 'of'}, {'start': 105.39, 'end': 106.103057, 'word': 'technology'}, {'start': 106.8, 'end': 106.918022, 'word': 'the'}, {'start': 106.918022, 'end': 107.67, 'word': 'exponential'}, {'start': 107.67, 'end': 108.150095, 'word': 'growth'}, {'start': 108.150095, 'end': 108.359985, 'word': 'of'}, {'start': 108.36, 'end': 108.81, 'word': 'data'}, {'start': 109.203179, 'end': 109.32, 'word': 'the'}, {'start': 109.323933, 'end': 109.530403, 'word': 'power'}, {'start': 109.530403, 'end': 109.835068, 'word': 'powerful'}, {'start': 109.835068, 'end': 110.58, 'word': 'algorithms'}, {'start': 110.76, 'end': 110.939985, 'word': 'have'}, {'start': 110.939985, 'end': 111.33, 'word': 'fuelled'}, {'start': 111.33, 'end': 111.45, 'word': 'my'}, {'start': 111.45, 'end': 112.17, 'word': 'desire'}, {'start': 112.38, 'end': 112.5, 'word': 'to'}, {'start': 112.5, 'end': 113.25, 'word': 'explore'}, {'start': 113.67, 'end': 113.82, 'word': 'the'}, {'start': 113.82, 'end': 114.24, 'word': 'realms'}, {'start': 114.24, 'end': 114.301062, 'word': 'of'}, {'start': 114.301062, 'end': 114.509019, 'word': 'data'}, {'start': 114.509019, 'end': 115.2, 'word': 'analysis'}, {'start': 115.53, 'end': 115.89, 'word': 'pattern'}, {'start': 115.894475, 'end': 116.67, 'word': 'recognition'}, {'start': 116.948101, 'end': 117.124636, 'word': 'and'}, {'start': 117.124636, 'end': 117.599949, 'word': 'intelligent'}, {'start': 117.599949, 'end': 118.38, 'word': 'decision-making'}, {'start': 118.95, 'end': 119.16, 'word': 'i'}, {'start': 119.160388, 'end': 119.61, 'word': 'think'}, {'start': 119.73, 'end': 119.877905, 'word': 'that'}, {'start': 119.877905, 'end': 120.24, 'word': 'computer'}, {'start': 120.24, 'end': 120.690029, 'word': 'science'}, {'start': 120.690029, 'end': 120.84, 'word': 'is'}, {'start': 120.84, 'end': 121.11, 'word': 'not'}, {'start': 121.11, 'end': 121.29, 'word': 'just'}, {'start': 121.29, 'end': 121.500366, 'word': 'about'}, {'start': 121.500366, 'end': 121.741729, 'word': 'running'}, {'start': 121.741729, 'end': 122.19, 'word': 'towed'}, {'start': 122.67, 'end': 122.818118, 'word': 'it'}, {'start': 122.818118, 'end': 122.909458, 'word': 'is'}, {'start': 122.909458, 'end': 123.36, 'word': 'about'}, {'start': 123.39, 'end': 123.986909, 'word': 'developing'}, {'start': 124.02, 'end': 124.59, 'word': 'elegant'}, {'start': 124.739912, 'end': 124.888901, 'word': 'and'}, {'start': 124.888901, 'end': 125.28, 'word': 'efficient'}, {'start': 125.28, 'end': 125.88, 'word': 'solutions'}, {'start': 126.0, 'end': 126.119985, 'word': 'to'}, {'start': 126.119985, 'end': 126.69, 'word': 'optimize'}, {'start': 126.69, 'end': 127.53, 'word': 'processes'}, {'start': 127.95, 'end': 128.73, 'word': 'enhance'}, {'start': 129.12, 'end': 129.39, 'word': 'user'}, {'start': 129.39, 'end': 130.2, 'word': 'experience'}, {'start': 130.41, 'end': 130.59, 'word': 'and'}, {'start': 130.59, 'end': 131.04, 'word': 'make'}, {'start': 131.19, 'end': 131.28, 'word': 'a'}, {'start': 131.280439, 'end': 131.79, 'word': 'positive'}, {'start': 131.79, 'end': 132.180791, 'word': 'impact'}, {'start': 132.180791, 'end': 132.244248, 'word': 'for'}, {'start': 132.244248, 'end': 132.779985, 'word': 'suicide'}, {'start': 133.470176, 'end': 133.68, 'word': \"i'm\"}, {'start': 133.68, 'end': 133.799795, 'word': 'up'}, {'start': 133.799795, 'end': 133.950059, 'word': 'for'}, {'start': 133.950059, 'end': 134.22, 'word': 'any'}, {'start': 134.22, 'end': 134.614966, 'word': 'challenge'}, {'start': 134.614966, 'end': 135.029648, 'word': 'represent'}, {'start': 135.029648, 'end': 135.33, 'word': 'me'}, {'start': 135.54, 'end': 135.75, 'word': 'at'}, {'start': 135.75, 'end': 135.87, 'word': 'my'}, {'start': 135.87, 'end': 136.229868, 'word': 'job'}, {'start': 136.53, 'end': 136.83, 'word': 'thank'}, {'start': 136.83, 'end': 137.07, 'word': 'you'}]\n"
          ]
        }
      ]
    },
    {
      "cell_type": "code",
      "source": [
        "json_words_data = json.dumps(json_words)\n",
        "with open('words_json_data.json', 'w') as outfile:\n",
        "    outfile.write(json_words_data)"
      ],
      "metadata": {
        "id": "G99_S7DygAI8"
      },
      "execution_count": 48,
      "outputs": []
    },
    {
      "cell_type": "code",
      "source": [
        "for word in list_of_Words:\n",
        "    print(word.to_string())"
      ],
      "metadata": {
        "colab": {
          "base_uri": "https://localhost:8080/"
        },
        "id": "3-x-YliYgXCn",
        "outputId": "9de664c5-08bc-4a22-d262-189a5eb91083"
      },
      "execution_count": 49,
      "outputs": [
        {
          "output_type": "stream",
          "name": "stdout",
          "text": [
            "hello                from 0.48 sec to 0.90 sec, confidence is 100.00%\n",
            "my                   from 0.93 sec to 1.08 sec, confidence is 100.00%\n",
            "name                 from 1.08 sec to 1.23 sec, confidence is 94.44%\n",
            "is                   from 1.23 sec to 1.32 sec, confidence is 92.70%\n",
            "prasanth             from 1.32 sec to 1.98 sec, confidence is 27.80%\n",
            "and                  from 2.37 sec to 2.55 sec, confidence is 95.23%\n",
            "i'm                  from 2.55 sec to 2.73 sec, confidence is 68.94%\n",
            "going                from 2.73 sec to 2.88 sec, confidence is 100.00%\n",
            "to                   from 2.88 sec to 2.94 sec, confidence is 100.00%\n",
            "graduate             from 2.94 sec to 3.69 sec, confidence is 100.00%\n",
            "with                 from 3.75 sec to 3.96 sec, confidence is 100.00%\n",
            "an                   from 3.96 sec to 4.02 sec, confidence is 99.99%\n",
            "engineering          from 4.02 sec to 4.47 sec, confidence is 100.00%\n",
            "degree               from 4.47 sec to 4.89 sec, confidence is 100.00%\n",
            "in                   from 4.89 sec to 5.01 sec, confidence is 100.00%\n",
            "computer             from 5.01 sec to 5.40 sec, confidence is 100.00%\n",
            "science              from 5.40 sec to 6.03 sec, confidence is 100.00%\n",
            "ready                from 6.30 sec to 6.69 sec, confidence is 100.00%\n",
            "to                   from 6.69 sec to 6.84 sec, confidence is 100.00%\n",
            "embark               from 6.84 sec to 7.32 sec, confidence is 100.00%\n",
            "on                   from 7.32 sec to 7.47 sec, confidence is 100.00%\n",
            "a                    from 7.47 sec to 7.53 sec, confidence is 99.36%\n",
            "journey              from 7.53 sec to 8.01 sec, confidence is 99.96%\n",
            "of                   from 8.07 sec to 8.28 sec, confidence is 100.00%\n",
            "continuous           from 8.28 sec to 8.70 sec, confidence is 100.00%\n",
            "learning             from 8.70 sec to 9.33 sec, confidence is 100.00%\n",
            "and                  from 9.42 sec to 9.63 sec, confidence is 99.29%\n",
            "technological        from 9.63 sec to 10.26 sec, confidence is 100.00%\n",
            "advancement          from 10.26 sec to 11.01 sec, confidence is 98.86%\n",
            "throughout           from 11.76 sec to 12.21 sec, confidence is 100.00%\n",
            "my                   from 12.21 sec to 12.33 sec, confidence is 100.00%\n",
            "college              from 12.33 sec to 12.72 sec, confidence is 99.73%\n",
            "learning             from 12.72 sec to 12.99 sec, confidence is 25.82%\n",
            "computer             from 12.99 sec to 13.32 sec, confidence is 99.41%\n",
            "science              from 13.32 sec to 14.07 sec, confidence is 99.97%\n",
            "i                    from 14.22 sec to 14.39 sec, confidence is 60.99%\n",
            "have                 from 14.39 sec to 14.52 sec, confidence is 67.17%\n",
            "acquired             from 14.52 sec to 15.09 sec, confidence is 100.00%\n",
            "a                    from 15.09 sec to 15.15 sec, confidence is 99.77%\n",
            "comprehensive        from 15.15 sec to 15.90 sec, confidence is 100.00%\n",
            "understanding        from 15.90 sec to 16.59 sec, confidence is 100.00%\n",
            "of                   from 16.62 sec to 16.77 sec, confidence is 99.54%\n",
            "algorithms           from 16.77 sec to 17.52 sec, confidence is 100.00%\n",
            "data                 from 17.70 sec to 17.97 sec, confidence is 99.43%\n",
            "structures           from 17.97 sec to 18.63 sec, confidence is 99.98%\n",
            "software             from 18.66 sec to 19.11 sec, confidence is 44.37%\n",
            "development          from 19.11 sec to 19.74 sec, confidence is 98.11%\n",
            "and                  from 19.94 sec to 20.16 sec, confidence is 78.96%\n",
            "system               from 20.16 sec to 20.46 sec, confidence is 95.03%\n",
            "design               from 20.46 sec to 21.00 sec, confidence is 99.89%\n",
            "dynamic              from 22.08 sec to 22.47 sec, confidence is 100.00%\n",
            "nature               from 22.47 sec to 22.71 sec, confidence is 99.69%\n",
            "of                   from 22.71 sec to 22.77 sec, confidence is 88.18%\n",
            "computer             from 22.77 sec to 23.10 sec, confidence is 90.83%\n",
            "science              from 23.10 sec to 23.76 sec, confidence is 91.06%\n",
            "has                  from 23.85 sec to 24.03 sec, confidence is 99.56%\n",
            "allowed              from 24.03 sec to 24.48 sec, confidence is 100.00%\n",
            "me                   from 24.48 sec to 24.60 sec, confidence is 100.00%\n",
            "to                   from 24.60 sec to 24.93 sec, confidence is 100.00%\n",
            "embrace              from 24.96 sec to 25.38 sec, confidence is 97.85%\n",
            "challenges           from 25.38 sec to 26.10 sec, confidence is 96.60%\n",
            "adapt                from 26.16 sec to 26.82 sec, confidence is 100.00%\n",
            "to                   from 26.88 sec to 27.03 sec, confidence is 100.00%\n",
            "new                  from 27.03 sec to 27.21 sec, confidence is 100.00%\n",
            "technologies         from 27.21 sec to 28.02 sec, confidence is 100.00%\n",
            "and                  from 28.53 sec to 28.71 sec, confidence is 97.85%\n",
            "constantly           from 28.71 sec to 29.34 sec, confidence is 93.76%\n",
            "stay                 from 29.34 sec to 29.91 sec, confidence is 99.78%\n",
            "at                   from 30.30 sec to 30.48 sec, confidence is 100.00%\n",
            "the                  from 30.48 sec to 30.57 sec, confidence is 100.00%\n",
            "forefront            from 30.57 sec to 31.02 sec, confidence is 100.00%\n",
            "of                   from 31.02 sec to 31.11 sec, confidence is 100.00%\n",
            "innovation           from 31.11 sec to 31.68 sec, confidence is 100.00%\n",
            "with                 from 32.73 sec to 32.91 sec, confidence is 96.46%\n",
            "a                    from 32.91 sec to 32.97 sec, confidence is 97.20%\n",
            "solid                from 32.97 sec to 33.24 sec, confidence is 98.32%\n",
            "foundation           from 33.24 sec to 33.84 sec, confidence is 100.00%\n",
            "computer             from 33.84 sec to 34.14 sec, confidence is 100.00%\n",
            "science              from 34.14 sec to 34.56 sec, confidence is 100.00%\n",
            "principles           from 34.56 sec to 35.07 sec, confidence is 99.75%\n",
            "and                  from 35.07 sec to 35.18 sec, confidence is 78.15%\n",
            "programming          from 35.19 sec to 35.88 sec, confidence is 95.42%\n",
            "and                  from 36.36 sec to 36.63 sec, confidence is 76.05%\n",
            "quipped              from 36.68 sec to 37.08 sec, confidence is 41.81%\n",
            "navigate             from 37.17 sec to 37.95 sec, confidence is 100.00%\n",
            "the                  from 38.07 sec to 38.22 sec, confidence is 99.90%\n",
            "landscape            from 38.22 sec to 38.88 sec, confidence is 100.00%\n",
            "and                  from 38.91 sec to 39.09 sec, confidence is 98.30%\n",
            "tackle               from 39.09 sec to 39.48 sec, confidence is 99.89%\n",
            "complex              from 39.48 sec to 39.93 sec, confidence is 99.99%\n",
            "problems             from 39.93 sec to 40.41 sec, confidence is 100.00%\n",
            "head                 from 40.41 sec to 40.62 sec, confidence is 66.67%\n",
            "on                   from 40.67 sec to 40.97 sec, confidence is 99.37%\n",
            "the                  from 41.73 sec to 41.82 sec, confidence is 92.57%\n",
            "computer             from 41.82 sec to 42.15 sec, confidence is 77.33%\n",
            "scratch              from 42.39 sec to 42.84 sec, confidence is 76.44%\n",
            "raid                 from 42.84 sec to 43.17 sec, confidence is 43.10%\n",
            "i                    from 43.44 sec to 43.59 sec, confidence is 93.85%\n",
            "possess              from 43.59 sec to 44.22 sec, confidence is 95.00%\n",
            "strong               from 44.25 sec to 44.82 sec, confidence is 100.00%\n",
            "problem-solving      from 44.82 sec to 45.48 sec, confidence is 99.49%\n",
            "skills               from 45.48 sec to 46.11 sec, confidence is 100.00%\n",
            "logical              from 46.44 sec to 46.89 sec, confidence is 100.00%\n",
            "mindset              from 46.89 sec to 47.52 sec, confidence is 88.66%\n",
            "and                  from 47.55 sec to 47.82 sec, confidence is 98.64%\n",
            "ability              from 47.85 sec to 48.27 sec, confidence is 100.00%\n",
            "to                   from 48.27 sec to 48.39 sec, confidence is 100.00%\n",
            "think                from 48.39 sec to 48.66 sec, confidence is 100.00%\n",
            "critically           from 48.66 sec to 49.14 sec, confidence is 100.00%\n",
            "in                   from 50.55 sec to 50.66 sec, confidence is 30.15%\n",
            "navigating           from 50.66 sec to 51.42 sec, confidence is 99.99%\n",
            "the                  from 51.63 sec to 51.75 sec, confidence is 100.00%\n",
            "complexities         from 51.75 sec to 52.53 sec, confidence is 100.00%\n",
            "of                   from 52.65 sec to 52.98 sec, confidence is 100.00%\n",
            "the                  from 52.98 sec to 53.07 sec, confidence is 95.14%\n",
            "digital              from 53.07 sec to 53.34 sec, confidence is 94.85%\n",
            "era                  from 53.34 sec to 53.70 sec, confidence is 93.47%\n",
            "am                   from 54.45 sec to 54.66 sec, confidence is 62.35%\n",
            "proficient           from 54.66 sec to 55.26 sec, confidence is 100.00%\n",
            "in                   from 55.26 sec to 55.41 sec, confidence is 100.00%\n",
            "multiple             from 55.41 sec to 55.89 sec, confidence is 100.00%\n",
            "programming          from 55.89 sec to 56.37 sec, confidence is 100.00%\n",
            "languages            from 56.37 sec to 57.12 sec, confidence is 100.00%\n",
            "including            from 57.27 sec to 57.99 sec, confidence is 100.00%\n",
            "but                  from 58.08 sec to 58.23 sec, confidence is 100.00%\n",
            "not                  from 58.23 sec to 58.50 sec, confidence is 100.00%\n",
            "limited              from 58.50 sec to 58.86 sec, confidence is 100.00%\n",
            "to                   from 58.86 sec to 58.98 sec, confidence is 100.00%\n",
            "python               from 58.98 sec to 59.55 sec, confidence is 90.76%\n",
            "java                 from 60.00 sec to 60.54 sec, confidence is 42.63%\n",
            "c                    from 60.69 sec to 61.02 sec, confidence is 98.88%\n",
            "plus                 from 61.02 sec to 61.26 sec, confidence is 99.78%\n",
            "plus                 from 61.26 sec to 61.68 sec, confidence is 99.78%\n",
            "and                  from 61.92 sec to 62.07 sec, confidence is 44.10%\n",
            "javascript           from 62.07 sec to 62.91 sec, confidence is 100.00%\n",
            "enabling             from 63.27 sec to 63.81 sec, confidence is 99.12%\n",
            "me                   from 63.81 sec to 64.11 sec, confidence is 98.61%\n",
            "to                   from 64.17 sec to 64.31 sec, confidence is 79.67%\n",
            "develop              from 64.31 sec to 64.68 sec, confidence is 95.73%\n",
            "robust               from 64.74 sec to 65.40 sec, confidence is 100.00%\n",
            "scalable             from 65.49 sec to 66.09 sec, confidence is 100.00%\n",
            "software             from 66.09 sec to 66.51 sec, confidence is 85.90%\n",
            "solutions            from 66.51 sec to 67.20 sec, confidence is 100.00%\n",
            "the                  from 68.04 sec to 68.16 sec, confidence is 81.34%\n",
            "field                from 68.16 sec to 68.49 sec, confidence is 98.71%\n",
            "of                   from 68.49 sec to 68.55 sec, confidence is 99.89%\n",
            "computer             from 68.55 sec to 68.88 sec, confidence is 100.00%\n",
            "science              from 68.88 sec to 69.51 sec, confidence is 100.00%\n",
            "characterised        from 69.88 sec to 70.50 sec, confidence is 69.03%\n",
            "by                   from 70.50 sec to 70.95 sec, confidence is 100.00%\n",
            "its                  from 71.01 sec to 71.22 sec, confidence is 95.11%\n",
            "collaborative        from 71.22 sec to 71.73 sec, confidence is 95.79%\n",
            "nature               from 71.73 sec to 72.30 sec, confidence is 100.00%\n",
            "and                  from 72.57 sec to 72.69 sec, confidence is 96.77%\n",
            "i'm                  from 72.69 sec to 72.78 sec, confidence is 73.09%\n",
            "excited              from 72.78 sec to 73.35 sec, confidence is 100.00%\n",
            "to                   from 73.35 sec to 73.53 sec, confidence is 100.00%\n",
            "work                 from 73.53 sec to 73.92 sec, confidence is 100.00%\n",
            "with                 from 73.98 sec to 74.25 sec, confidence is 100.00%\n",
            "disabilities         from 74.55 sec to 75.28 sec, confidence is 58.16%\n",
            "aims                 from 75.28 sec to 75.57 sec, confidence is 40.84%\n",
            "to                   from 75.57 sec to 75.63 sec, confidence is 30.67%\n",
            "create               from 75.75 sec to 76.35 sec, confidence is 100.00%\n",
            "innovative           from 76.41 sec to 76.89 sec, confidence is 100.00%\n",
            "applications         from 76.89 sec to 77.76 sec, confidence is 100.00%\n",
            "dresses              from 78.31 sec to 78.96 sec, confidence is 54.47%\n",
            "real                 from 79.38 sec to 79.86 sec, confidence is 100.00%\n",
            "world                from 79.89 sec to 80.16 sec, confidence is 100.00%\n",
            "problems             from 80.19 sec to 80.88 sec, confidence is 96.53%\n",
            "internships          from 82.08 sec to 82.74 sec, confidence is 99.33%\n",
            "and                  from 82.89 sec to 83.04 sec, confidence is 97.73%\n",
            "handsome             from 83.04 sec to 83.52 sec, confidence is 78.88%\n",
            "products             from 83.52 sec to 84.21 sec, confidence is 86.75%\n",
            "i've                 from 84.78 sec to 85.08 sec, confidence is 47.10%\n",
            "thanks               from 85.48 sec to 85.77 sec, confidence is 21.94%\n",
            "to                   from 85.77 sec to 85.89 sec, confidence is 64.49%\n",
            "experience           from 85.89 sec to 86.46 sec, confidence is 98.00%\n",
            "a                    from 86.46 sec to 86.55 sec, confidence is 40.62%\n",
            "software             from 86.55 sec to 86.91 sec, confidence is 95.91%\n",
            "development          from 86.91 sec to 87.51 sec, confidence is 100.00%\n",
            "methodologies        from 87.90 sec to 88.83 sec, confidence is 99.28%\n",
            "version              from 89.34 sec to 89.70 sec, confidence is 50.50%\n",
            "control              from 89.70 sec to 90.00 sec, confidence is 100.00%\n",
            "systems              from 90.00 sec to 90.66 sec, confidence is 100.00%\n",
            "and                  from 90.72 sec to 90.93 sec, confidence is 100.00%\n",
            "practices            from 91.29 sec to 92.16 sec, confidence is 99.15%\n",
            "ensuring             from 92.25 sec to 92.94 sec, confidence is 100.00%\n",
            "efficient            from 93.30 sec to 93.78 sec, confidence is 100.00%\n",
            "and                  from 93.78 sec to 93.84 sec, confidence is 95.01%\n",
            "collaborating        from 93.84 sec to 94.50 sec, confidence is 54.64%\n",
            "work                 from 94.50 sec to 94.86 sec, confidence is 100.00%\n",
            "i'm                  from 95.67 sec to 95.88 sec, confidence is 80.72%\n",
            "particular           from 95.88 sec to 96.36 sec, confidence is 47.70%\n",
            "interested           from 96.36 sec to 96.87 sec, confidence is 100.00%\n",
            "in                   from 96.87 sec to 96.96 sec, confidence is 100.00%\n",
            "the                  from 96.96 sec to 97.05 sec, confidence is 100.00%\n",
            "fields               from 97.05 sec to 97.41 sec, confidence is 91.43%\n",
            "of                   from 97.41 sec to 97.56 sec, confidence is 100.00%\n",
            "artificial           from 97.56 sec to 97.92 sec, confidence is 100.00%\n",
            "intelligence         from 97.92 sec to 98.67 sec, confidence is 100.00%\n",
            "machine              from 98.70 sec to 99.09 sec, confidence is 100.00%\n",
            "learning             from 99.09 sec to 99.57 sec, confidence is 100.00%\n",
            "and                  from 99.84 sec to 100.08 sec, confidence is 100.00%\n",
            "data                 from 100.08 sec to 100.29 sec, confidence is 99.89%\n",
            "science              from 100.29 sec to 100.92 sec, confidence is 99.48%\n",
            "which                from 101.37 sec to 101.58 sec, confidence is 98.44%\n",
            "have                 from 101.58 sec to 101.82 sec, confidence is 99.47%\n",
            "the                  from 101.82 sec to 101.91 sec, confidence is 97.98%\n",
            "patel                from 101.91 sec to 102.24 sec, confidence is 74.33%\n",
            "nice                 from 103.08 sec to 103.38 sec, confidence is 49.23%\n",
            "industries           from 103.38 sec to 104.07 sec, confidence is 99.78%\n",
            "and                  from 104.49 sec to 104.64 sec, confidence is 97.46%\n",
            "shape                from 104.64 sec to 104.97 sec, confidence is 98.40%\n",
            "the                  from 104.97 sec to 105.06 sec, confidence is 100.00%\n",
            "future               from 105.06 sec to 105.33 sec, confidence is 100.00%\n",
            "of                   from 105.33 sec to 105.39 sec, confidence is 99.02%\n",
            "technology           from 105.39 sec to 106.10 sec, confidence is 100.00%\n",
            "the                  from 106.80 sec to 106.92 sec, confidence is 72.60%\n",
            "exponential          from 106.92 sec to 107.67 sec, confidence is 100.00%\n",
            "growth               from 107.67 sec to 108.15 sec, confidence is 100.00%\n",
            "of                   from 108.15 sec to 108.36 sec, confidence is 98.96%\n",
            "data                 from 108.36 sec to 108.81 sec, confidence is 72.39%\n",
            "the                  from 109.20 sec to 109.32 sec, confidence is 45.54%\n",
            "power                from 109.32 sec to 109.53 sec, confidence is 48.83%\n",
            "powerful             from 109.53 sec to 109.84 sec, confidence is 45.16%\n",
            "algorithms           from 109.84 sec to 110.58 sec, confidence is 37.65%\n",
            "have                 from 110.76 sec to 110.94 sec, confidence is 99.53%\n",
            "fuelled              from 110.94 sec to 111.33 sec, confidence is 99.70%\n",
            "my                   from 111.33 sec to 111.45 sec, confidence is 99.96%\n",
            "desire               from 111.45 sec to 112.17 sec, confidence is 100.00%\n",
            "to                   from 112.38 sec to 112.50 sec, confidence is 100.00%\n",
            "explore              from 112.50 sec to 113.25 sec, confidence is 99.93%\n",
            "the                  from 113.67 sec to 113.82 sec, confidence is 100.00%\n",
            "realms               from 113.82 sec to 114.24 sec, confidence is 100.00%\n",
            "of                   from 114.24 sec to 114.30 sec, confidence is 99.97%\n",
            "data                 from 114.30 sec to 114.51 sec, confidence is 84.75%\n",
            "analysis             from 114.51 sec to 115.20 sec, confidence is 99.31%\n",
            "pattern              from 115.53 sec to 115.89 sec, confidence is 78.89%\n",
            "recognition          from 115.89 sec to 116.67 sec, confidence is 93.48%\n",
            "and                  from 116.95 sec to 117.12 sec, confidence is 80.70%\n",
            "intelligent          from 117.12 sec to 117.60 sec, confidence is 92.52%\n",
            "decision-making      from 117.60 sec to 118.38 sec, confidence is 77.19%\n",
            "i                    from 118.95 sec to 119.16 sec, confidence is 98.71%\n",
            "think                from 119.16 sec to 119.61 sec, confidence is 100.00%\n",
            "that                 from 119.73 sec to 119.88 sec, confidence is 85.33%\n",
            "computer             from 119.88 sec to 120.24 sec, confidence is 100.00%\n",
            "science              from 120.24 sec to 120.69 sec, confidence is 99.18%\n",
            "is                   from 120.69 sec to 120.84 sec, confidence is 97.78%\n",
            "not                  from 120.84 sec to 121.11 sec, confidence is 100.00%\n",
            "just                 from 121.11 sec to 121.29 sec, confidence is 100.00%\n",
            "about                from 121.29 sec to 121.50 sec, confidence is 99.98%\n",
            "running              from 121.50 sec to 121.74 sec, confidence is 72.91%\n",
            "towed                from 121.74 sec to 122.19 sec, confidence is 30.70%\n",
            "it                   from 122.67 sec to 122.82 sec, confidence is 89.30%\n",
            "is                   from 122.82 sec to 122.91 sec, confidence is 88.96%\n",
            "about                from 122.91 sec to 123.36 sec, confidence is 100.00%\n",
            "developing           from 123.39 sec to 123.99 sec, confidence is 100.00%\n",
            "elegant              from 124.02 sec to 124.59 sec, confidence is 99.81%\n",
            "and                  from 124.74 sec to 124.89 sec, confidence is 97.31%\n",
            "efficient            from 124.89 sec to 125.28 sec, confidence is 99.99%\n",
            "solutions            from 125.28 sec to 125.88 sec, confidence is 99.97%\n",
            "to                   from 126.00 sec to 126.12 sec, confidence is 52.59%\n",
            "optimize             from 126.12 sec to 126.69 sec, confidence is 79.84%\n",
            "processes            from 126.69 sec to 127.53 sec, confidence is 100.00%\n",
            "enhance              from 127.95 sec to 128.73 sec, confidence is 100.00%\n",
            "user                 from 129.12 sec to 129.39 sec, confidence is 100.00%\n",
            "experience           from 129.39 sec to 130.20 sec, confidence is 100.00%\n",
            "and                  from 130.41 sec to 130.59 sec, confidence is 99.88%\n",
            "make                 from 130.59 sec to 131.04 sec, confidence is 100.00%\n",
            "a                    from 131.19 sec to 131.28 sec, confidence is 98.26%\n",
            "positive             from 131.28 sec to 131.79 sec, confidence is 99.75%\n",
            "impact               from 131.79 sec to 132.18 sec, confidence is 99.17%\n",
            "for                  from 132.18 sec to 132.24 sec, confidence is 59.79%\n",
            "suicide              from 132.24 sec to 132.78 sec, confidence is 63.06%\n",
            "i'm                  from 133.47 sec to 133.68 sec, confidence is 64.19%\n",
            "up                   from 133.68 sec to 133.80 sec, confidence is 98.24%\n",
            "for                  from 133.80 sec to 133.95 sec, confidence is 99.94%\n",
            "any                  from 133.95 sec to 134.22 sec, confidence is 99.52%\n",
            "challenge            from 134.22 sec to 134.61 sec, confidence is 99.10%\n",
            "represent            from 134.61 sec to 135.03 sec, confidence is 49.94%\n",
            "me                   from 135.03 sec to 135.33 sec, confidence is 99.71%\n",
            "at                   from 135.54 sec to 135.75 sec, confidence is 100.00%\n",
            "my                   from 135.75 sec to 135.87 sec, confidence is 100.00%\n",
            "job                  from 135.87 sec to 136.23 sec, confidence is 100.00%\n",
            "thank                from 136.53 sec to 136.83 sec, confidence is 100.00%\n",
            "you                  from 136.83 sec to 137.07 sec, confidence is 99.33%\n"
          ]
        }
      ]
    },
    {
      "cell_type": "code",
      "source": [
        "pause = []\n",
        "for i in range(len(list_of_Words) - 1):\n",
        "  word = list_of_Words[i]\n",
        "  next_word = list_of_Words[i + 1]\n",
        "  if word.end < next_word.start - 0.5:\n",
        "    pause.append({'start': word.end, 'end': next_word.start})\n",
        "\n",
        "num_pause = len(pause)\n",
        "print(\"The number of puases is : \", len(pause))\n",
        "pprint.pprint(pause)\n",
        "\n",
        "json_pause_data = json.dumps(pause)\n",
        "with open('pause_json_data.json', 'w') as outfile:\n",
        "    outfile.write(json_pause_data)\n"
      ],
      "metadata": {
        "colab": {
          "base_uri": "https://localhost:8080/"
        },
        "id": "iTQNPIvmglfN",
        "outputId": "aa734588-e32e-414e-d683-5fbf005809f9"
      },
      "execution_count": 53,
      "outputs": [
        {
          "output_type": "stream",
          "name": "stdout",
          "text": [
            "The number of puases is :  17\n",
            "[{'end': 11.76, 'start': 11.01},\n",
            " {'end': 22.08, 'start': 21.0},\n",
            " {'end': 28.53, 'start': 28.02},\n",
            " {'end': 32.73, 'start': 31.68},\n",
            " {'end': 41.730916, 'start': 40.966135},\n",
            " {'end': 50.552281, 'start': 49.14},\n",
            " {'end': 54.45, 'start': 53.698982},\n",
            " {'end': 68.04, 'start': 67.199912},\n",
            " {'end': 78.307339, 'start': 77.76},\n",
            " {'end': 82.08, 'start': 80.88},\n",
            " {'end': 84.78, 'start': 84.21},\n",
            " {'end': 89.34, 'start': 88.829956},\n",
            " {'end': 95.67, 'start': 94.86},\n",
            " {'end': 103.080396, 'start': 102.24},\n",
            " {'end': 106.8, 'start': 106.103057},\n",
            " {'end': 118.95, 'start': 118.38},\n",
            " {'end': 133.470176, 'start': 132.779985}]\n"
          ]
        }
      ]
    },
    {
      "cell_type": "code",
      "source": [
        "filter_words = ['Umm', 'aah', 'aargh' 'oh', 'um', 'uh', 'er', 'ah', 'like', 'well', 'so', 'right', 'literally', 'okay']\n",
        "\n",
        "\n",
        "for word in list_of_Words:\n",
        "    w = word.to_string().split()\n",
        "    if w[0] in filter_words:\n",
        "      print(word.to_string())"
      ],
      "metadata": {
        "colab": {
          "base_uri": "https://localhost:8080/"
        },
        "id": "RvnYGlPRlxEf",
        "outputId": "3255c17a-e017-4045-be3e-ab306f45c2f2"
      },
      "execution_count": 57,
      "outputs": [
        {
          "output_type": "stream",
          "name": "stdout",
          "text": [
            "hello                from 0.48 sec to 0.90 sec, confidence is 100.00%\n",
            "my                   from 0.93 sec to 1.08 sec, confidence is 100.00%\n",
            "name                 from 1.08 sec to 1.23 sec, confidence is 94.44%\n",
            "is                   from 1.23 sec to 1.32 sec, confidence is 92.70%\n",
            "prasanth             from 1.32 sec to 1.98 sec, confidence is 27.80%\n",
            "and                  from 2.37 sec to 2.55 sec, confidence is 95.23%\n",
            "i'm                  from 2.55 sec to 2.73 sec, confidence is 68.94%\n",
            "going                from 2.73 sec to 2.88 sec, confidence is 100.00%\n",
            "to                   from 2.88 sec to 2.94 sec, confidence is 100.00%\n",
            "graduate             from 2.94 sec to 3.69 sec, confidence is 100.00%\n",
            "with                 from 3.75 sec to 3.96 sec, confidence is 100.00%\n",
            "an                   from 3.96 sec to 4.02 sec, confidence is 99.99%\n",
            "engineering          from 4.02 sec to 4.47 sec, confidence is 100.00%\n",
            "degree               from 4.47 sec to 4.89 sec, confidence is 100.00%\n",
            "in                   from 4.89 sec to 5.01 sec, confidence is 100.00%\n",
            "computer             from 5.01 sec to 5.40 sec, confidence is 100.00%\n",
            "science              from 5.40 sec to 6.03 sec, confidence is 100.00%\n",
            "ready                from 6.30 sec to 6.69 sec, confidence is 100.00%\n",
            "to                   from 6.69 sec to 6.84 sec, confidence is 100.00%\n",
            "embark               from 6.84 sec to 7.32 sec, confidence is 100.00%\n",
            "on                   from 7.32 sec to 7.47 sec, confidence is 100.00%\n",
            "a                    from 7.47 sec to 7.53 sec, confidence is 99.36%\n",
            "journey              from 7.53 sec to 8.01 sec, confidence is 99.96%\n",
            "of                   from 8.07 sec to 8.28 sec, confidence is 100.00%\n",
            "continuous           from 8.28 sec to 8.70 sec, confidence is 100.00%\n",
            "learning             from 8.70 sec to 9.33 sec, confidence is 100.00%\n",
            "and                  from 9.42 sec to 9.63 sec, confidence is 99.29%\n",
            "technological        from 9.63 sec to 10.26 sec, confidence is 100.00%\n",
            "advancement          from 10.26 sec to 11.01 sec, confidence is 98.86%\n",
            "throughout           from 11.76 sec to 12.21 sec, confidence is 100.00%\n",
            "my                   from 12.21 sec to 12.33 sec, confidence is 100.00%\n",
            "college              from 12.33 sec to 12.72 sec, confidence is 99.73%\n",
            "learning             from 12.72 sec to 12.99 sec, confidence is 25.82%\n",
            "computer             from 12.99 sec to 13.32 sec, confidence is 99.41%\n",
            "science              from 13.32 sec to 14.07 sec, confidence is 99.97%\n",
            "i                    from 14.22 sec to 14.39 sec, confidence is 60.99%\n",
            "have                 from 14.39 sec to 14.52 sec, confidence is 67.17%\n",
            "acquired             from 14.52 sec to 15.09 sec, confidence is 100.00%\n",
            "a                    from 15.09 sec to 15.15 sec, confidence is 99.77%\n",
            "comprehensive        from 15.15 sec to 15.90 sec, confidence is 100.00%\n",
            "understanding        from 15.90 sec to 16.59 sec, confidence is 100.00%\n",
            "of                   from 16.62 sec to 16.77 sec, confidence is 99.54%\n",
            "algorithms           from 16.77 sec to 17.52 sec, confidence is 100.00%\n",
            "data                 from 17.70 sec to 17.97 sec, confidence is 99.43%\n",
            "structures           from 17.97 sec to 18.63 sec, confidence is 99.98%\n",
            "software             from 18.66 sec to 19.11 sec, confidence is 44.37%\n",
            "development          from 19.11 sec to 19.74 sec, confidence is 98.11%\n",
            "and                  from 19.94 sec to 20.16 sec, confidence is 78.96%\n",
            "system               from 20.16 sec to 20.46 sec, confidence is 95.03%\n",
            "design               from 20.46 sec to 21.00 sec, confidence is 99.89%\n",
            "dynamic              from 22.08 sec to 22.47 sec, confidence is 100.00%\n",
            "nature               from 22.47 sec to 22.71 sec, confidence is 99.69%\n",
            "of                   from 22.71 sec to 22.77 sec, confidence is 88.18%\n",
            "computer             from 22.77 sec to 23.10 sec, confidence is 90.83%\n",
            "science              from 23.10 sec to 23.76 sec, confidence is 91.06%\n",
            "has                  from 23.85 sec to 24.03 sec, confidence is 99.56%\n",
            "allowed              from 24.03 sec to 24.48 sec, confidence is 100.00%\n",
            "me                   from 24.48 sec to 24.60 sec, confidence is 100.00%\n",
            "to                   from 24.60 sec to 24.93 sec, confidence is 100.00%\n",
            "embrace              from 24.96 sec to 25.38 sec, confidence is 97.85%\n",
            "challenges           from 25.38 sec to 26.10 sec, confidence is 96.60%\n",
            "adapt                from 26.16 sec to 26.82 sec, confidence is 100.00%\n",
            "to                   from 26.88 sec to 27.03 sec, confidence is 100.00%\n",
            "new                  from 27.03 sec to 27.21 sec, confidence is 100.00%\n",
            "technologies         from 27.21 sec to 28.02 sec, confidence is 100.00%\n",
            "and                  from 28.53 sec to 28.71 sec, confidence is 97.85%\n",
            "constantly           from 28.71 sec to 29.34 sec, confidence is 93.76%\n",
            "stay                 from 29.34 sec to 29.91 sec, confidence is 99.78%\n",
            "at                   from 30.30 sec to 30.48 sec, confidence is 100.00%\n",
            "the                  from 30.48 sec to 30.57 sec, confidence is 100.00%\n",
            "forefront            from 30.57 sec to 31.02 sec, confidence is 100.00%\n",
            "of                   from 31.02 sec to 31.11 sec, confidence is 100.00%\n",
            "innovation           from 31.11 sec to 31.68 sec, confidence is 100.00%\n",
            "with                 from 32.73 sec to 32.91 sec, confidence is 96.46%\n",
            "a                    from 32.91 sec to 32.97 sec, confidence is 97.20%\n",
            "solid                from 32.97 sec to 33.24 sec, confidence is 98.32%\n",
            "foundation           from 33.24 sec to 33.84 sec, confidence is 100.00%\n",
            "computer             from 33.84 sec to 34.14 sec, confidence is 100.00%\n",
            "science              from 34.14 sec to 34.56 sec, confidence is 100.00%\n",
            "principles           from 34.56 sec to 35.07 sec, confidence is 99.75%\n",
            "and                  from 35.07 sec to 35.18 sec, confidence is 78.15%\n",
            "programming          from 35.19 sec to 35.88 sec, confidence is 95.42%\n",
            "and                  from 36.36 sec to 36.63 sec, confidence is 76.05%\n",
            "quipped              from 36.68 sec to 37.08 sec, confidence is 41.81%\n",
            "navigate             from 37.17 sec to 37.95 sec, confidence is 100.00%\n",
            "the                  from 38.07 sec to 38.22 sec, confidence is 99.90%\n",
            "landscape            from 38.22 sec to 38.88 sec, confidence is 100.00%\n",
            "and                  from 38.91 sec to 39.09 sec, confidence is 98.30%\n",
            "tackle               from 39.09 sec to 39.48 sec, confidence is 99.89%\n",
            "complex              from 39.48 sec to 39.93 sec, confidence is 99.99%\n",
            "problems             from 39.93 sec to 40.41 sec, confidence is 100.00%\n",
            "head                 from 40.41 sec to 40.62 sec, confidence is 66.67%\n",
            "on                   from 40.67 sec to 40.97 sec, confidence is 99.37%\n",
            "the                  from 41.73 sec to 41.82 sec, confidence is 92.57%\n",
            "computer             from 41.82 sec to 42.15 sec, confidence is 77.33%\n",
            "scratch              from 42.39 sec to 42.84 sec, confidence is 76.44%\n",
            "raid                 from 42.84 sec to 43.17 sec, confidence is 43.10%\n",
            "i                    from 43.44 sec to 43.59 sec, confidence is 93.85%\n",
            "possess              from 43.59 sec to 44.22 sec, confidence is 95.00%\n",
            "strong               from 44.25 sec to 44.82 sec, confidence is 100.00%\n",
            "problem-solving      from 44.82 sec to 45.48 sec, confidence is 99.49%\n",
            "skills               from 45.48 sec to 46.11 sec, confidence is 100.00%\n",
            "logical              from 46.44 sec to 46.89 sec, confidence is 100.00%\n",
            "mindset              from 46.89 sec to 47.52 sec, confidence is 88.66%\n",
            "and                  from 47.55 sec to 47.82 sec, confidence is 98.64%\n",
            "ability              from 47.85 sec to 48.27 sec, confidence is 100.00%\n",
            "to                   from 48.27 sec to 48.39 sec, confidence is 100.00%\n",
            "think                from 48.39 sec to 48.66 sec, confidence is 100.00%\n",
            "critically           from 48.66 sec to 49.14 sec, confidence is 100.00%\n",
            "in                   from 50.55 sec to 50.66 sec, confidence is 30.15%\n",
            "navigating           from 50.66 sec to 51.42 sec, confidence is 99.99%\n",
            "the                  from 51.63 sec to 51.75 sec, confidence is 100.00%\n",
            "complexities         from 51.75 sec to 52.53 sec, confidence is 100.00%\n",
            "of                   from 52.65 sec to 52.98 sec, confidence is 100.00%\n",
            "the                  from 52.98 sec to 53.07 sec, confidence is 95.14%\n",
            "digital              from 53.07 sec to 53.34 sec, confidence is 94.85%\n",
            "era                  from 53.34 sec to 53.70 sec, confidence is 93.47%\n",
            "am                   from 54.45 sec to 54.66 sec, confidence is 62.35%\n",
            "proficient           from 54.66 sec to 55.26 sec, confidence is 100.00%\n",
            "in                   from 55.26 sec to 55.41 sec, confidence is 100.00%\n",
            "multiple             from 55.41 sec to 55.89 sec, confidence is 100.00%\n",
            "programming          from 55.89 sec to 56.37 sec, confidence is 100.00%\n",
            "languages            from 56.37 sec to 57.12 sec, confidence is 100.00%\n",
            "including            from 57.27 sec to 57.99 sec, confidence is 100.00%\n",
            "but                  from 58.08 sec to 58.23 sec, confidence is 100.00%\n",
            "not                  from 58.23 sec to 58.50 sec, confidence is 100.00%\n",
            "limited              from 58.50 sec to 58.86 sec, confidence is 100.00%\n",
            "to                   from 58.86 sec to 58.98 sec, confidence is 100.00%\n",
            "python               from 58.98 sec to 59.55 sec, confidence is 90.76%\n",
            "java                 from 60.00 sec to 60.54 sec, confidence is 42.63%\n",
            "c                    from 60.69 sec to 61.02 sec, confidence is 98.88%\n",
            "plus                 from 61.02 sec to 61.26 sec, confidence is 99.78%\n",
            "plus                 from 61.26 sec to 61.68 sec, confidence is 99.78%\n",
            "and                  from 61.92 sec to 62.07 sec, confidence is 44.10%\n",
            "javascript           from 62.07 sec to 62.91 sec, confidence is 100.00%\n",
            "enabling             from 63.27 sec to 63.81 sec, confidence is 99.12%\n",
            "me                   from 63.81 sec to 64.11 sec, confidence is 98.61%\n",
            "to                   from 64.17 sec to 64.31 sec, confidence is 79.67%\n",
            "develop              from 64.31 sec to 64.68 sec, confidence is 95.73%\n",
            "robust               from 64.74 sec to 65.40 sec, confidence is 100.00%\n",
            "scalable             from 65.49 sec to 66.09 sec, confidence is 100.00%\n",
            "software             from 66.09 sec to 66.51 sec, confidence is 85.90%\n",
            "solutions            from 66.51 sec to 67.20 sec, confidence is 100.00%\n",
            "the                  from 68.04 sec to 68.16 sec, confidence is 81.34%\n",
            "field                from 68.16 sec to 68.49 sec, confidence is 98.71%\n",
            "of                   from 68.49 sec to 68.55 sec, confidence is 99.89%\n",
            "computer             from 68.55 sec to 68.88 sec, confidence is 100.00%\n",
            "science              from 68.88 sec to 69.51 sec, confidence is 100.00%\n",
            "characterised        from 69.88 sec to 70.50 sec, confidence is 69.03%\n",
            "by                   from 70.50 sec to 70.95 sec, confidence is 100.00%\n",
            "its                  from 71.01 sec to 71.22 sec, confidence is 95.11%\n",
            "collaborative        from 71.22 sec to 71.73 sec, confidence is 95.79%\n",
            "nature               from 71.73 sec to 72.30 sec, confidence is 100.00%\n",
            "and                  from 72.57 sec to 72.69 sec, confidence is 96.77%\n",
            "i'm                  from 72.69 sec to 72.78 sec, confidence is 73.09%\n",
            "excited              from 72.78 sec to 73.35 sec, confidence is 100.00%\n",
            "to                   from 73.35 sec to 73.53 sec, confidence is 100.00%\n",
            "work                 from 73.53 sec to 73.92 sec, confidence is 100.00%\n",
            "with                 from 73.98 sec to 74.25 sec, confidence is 100.00%\n",
            "disabilities         from 74.55 sec to 75.28 sec, confidence is 58.16%\n",
            "aims                 from 75.28 sec to 75.57 sec, confidence is 40.84%\n",
            "to                   from 75.57 sec to 75.63 sec, confidence is 30.67%\n",
            "create               from 75.75 sec to 76.35 sec, confidence is 100.00%\n",
            "innovative           from 76.41 sec to 76.89 sec, confidence is 100.00%\n",
            "applications         from 76.89 sec to 77.76 sec, confidence is 100.00%\n",
            "dresses              from 78.31 sec to 78.96 sec, confidence is 54.47%\n",
            "real                 from 79.38 sec to 79.86 sec, confidence is 100.00%\n",
            "world                from 79.89 sec to 80.16 sec, confidence is 100.00%\n",
            "problems             from 80.19 sec to 80.88 sec, confidence is 96.53%\n",
            "internships          from 82.08 sec to 82.74 sec, confidence is 99.33%\n",
            "and                  from 82.89 sec to 83.04 sec, confidence is 97.73%\n",
            "handsome             from 83.04 sec to 83.52 sec, confidence is 78.88%\n",
            "products             from 83.52 sec to 84.21 sec, confidence is 86.75%\n",
            "i've                 from 84.78 sec to 85.08 sec, confidence is 47.10%\n",
            "thanks               from 85.48 sec to 85.77 sec, confidence is 21.94%\n",
            "to                   from 85.77 sec to 85.89 sec, confidence is 64.49%\n",
            "experience           from 85.89 sec to 86.46 sec, confidence is 98.00%\n",
            "a                    from 86.46 sec to 86.55 sec, confidence is 40.62%\n",
            "software             from 86.55 sec to 86.91 sec, confidence is 95.91%\n",
            "development          from 86.91 sec to 87.51 sec, confidence is 100.00%\n",
            "methodologies        from 87.90 sec to 88.83 sec, confidence is 99.28%\n",
            "version              from 89.34 sec to 89.70 sec, confidence is 50.50%\n",
            "control              from 89.70 sec to 90.00 sec, confidence is 100.00%\n",
            "systems              from 90.00 sec to 90.66 sec, confidence is 100.00%\n",
            "and                  from 90.72 sec to 90.93 sec, confidence is 100.00%\n",
            "practices            from 91.29 sec to 92.16 sec, confidence is 99.15%\n",
            "ensuring             from 92.25 sec to 92.94 sec, confidence is 100.00%\n",
            "efficient            from 93.30 sec to 93.78 sec, confidence is 100.00%\n",
            "and                  from 93.78 sec to 93.84 sec, confidence is 95.01%\n",
            "collaborating        from 93.84 sec to 94.50 sec, confidence is 54.64%\n",
            "work                 from 94.50 sec to 94.86 sec, confidence is 100.00%\n",
            "i'm                  from 95.67 sec to 95.88 sec, confidence is 80.72%\n",
            "particular           from 95.88 sec to 96.36 sec, confidence is 47.70%\n",
            "interested           from 96.36 sec to 96.87 sec, confidence is 100.00%\n",
            "in                   from 96.87 sec to 96.96 sec, confidence is 100.00%\n",
            "the                  from 96.96 sec to 97.05 sec, confidence is 100.00%\n",
            "fields               from 97.05 sec to 97.41 sec, confidence is 91.43%\n",
            "of                   from 97.41 sec to 97.56 sec, confidence is 100.00%\n",
            "artificial           from 97.56 sec to 97.92 sec, confidence is 100.00%\n",
            "intelligence         from 97.92 sec to 98.67 sec, confidence is 100.00%\n",
            "machine              from 98.70 sec to 99.09 sec, confidence is 100.00%\n",
            "learning             from 99.09 sec to 99.57 sec, confidence is 100.00%\n",
            "and                  from 99.84 sec to 100.08 sec, confidence is 100.00%\n",
            "data                 from 100.08 sec to 100.29 sec, confidence is 99.89%\n",
            "science              from 100.29 sec to 100.92 sec, confidence is 99.48%\n",
            "which                from 101.37 sec to 101.58 sec, confidence is 98.44%\n",
            "have                 from 101.58 sec to 101.82 sec, confidence is 99.47%\n",
            "the                  from 101.82 sec to 101.91 sec, confidence is 97.98%\n",
            "patel                from 101.91 sec to 102.24 sec, confidence is 74.33%\n",
            "nice                 from 103.08 sec to 103.38 sec, confidence is 49.23%\n",
            "industries           from 103.38 sec to 104.07 sec, confidence is 99.78%\n",
            "and                  from 104.49 sec to 104.64 sec, confidence is 97.46%\n",
            "shape                from 104.64 sec to 104.97 sec, confidence is 98.40%\n",
            "the                  from 104.97 sec to 105.06 sec, confidence is 100.00%\n",
            "future               from 105.06 sec to 105.33 sec, confidence is 100.00%\n",
            "of                   from 105.33 sec to 105.39 sec, confidence is 99.02%\n",
            "technology           from 105.39 sec to 106.10 sec, confidence is 100.00%\n",
            "the                  from 106.80 sec to 106.92 sec, confidence is 72.60%\n",
            "exponential          from 106.92 sec to 107.67 sec, confidence is 100.00%\n",
            "growth               from 107.67 sec to 108.15 sec, confidence is 100.00%\n",
            "of                   from 108.15 sec to 108.36 sec, confidence is 98.96%\n",
            "data                 from 108.36 sec to 108.81 sec, confidence is 72.39%\n",
            "the                  from 109.20 sec to 109.32 sec, confidence is 45.54%\n",
            "power                from 109.32 sec to 109.53 sec, confidence is 48.83%\n",
            "powerful             from 109.53 sec to 109.84 sec, confidence is 45.16%\n",
            "algorithms           from 109.84 sec to 110.58 sec, confidence is 37.65%\n",
            "have                 from 110.76 sec to 110.94 sec, confidence is 99.53%\n",
            "fuelled              from 110.94 sec to 111.33 sec, confidence is 99.70%\n",
            "my                   from 111.33 sec to 111.45 sec, confidence is 99.96%\n",
            "desire               from 111.45 sec to 112.17 sec, confidence is 100.00%\n",
            "to                   from 112.38 sec to 112.50 sec, confidence is 100.00%\n",
            "explore              from 112.50 sec to 113.25 sec, confidence is 99.93%\n",
            "the                  from 113.67 sec to 113.82 sec, confidence is 100.00%\n",
            "realms               from 113.82 sec to 114.24 sec, confidence is 100.00%\n",
            "of                   from 114.24 sec to 114.30 sec, confidence is 99.97%\n",
            "data                 from 114.30 sec to 114.51 sec, confidence is 84.75%\n",
            "analysis             from 114.51 sec to 115.20 sec, confidence is 99.31%\n",
            "pattern              from 115.53 sec to 115.89 sec, confidence is 78.89%\n",
            "recognition          from 115.89 sec to 116.67 sec, confidence is 93.48%\n",
            "and                  from 116.95 sec to 117.12 sec, confidence is 80.70%\n",
            "intelligent          from 117.12 sec to 117.60 sec, confidence is 92.52%\n",
            "decision-making      from 117.60 sec to 118.38 sec, confidence is 77.19%\n",
            "i                    from 118.95 sec to 119.16 sec, confidence is 98.71%\n",
            "think                from 119.16 sec to 119.61 sec, confidence is 100.00%\n",
            "that                 from 119.73 sec to 119.88 sec, confidence is 85.33%\n",
            "computer             from 119.88 sec to 120.24 sec, confidence is 100.00%\n",
            "science              from 120.24 sec to 120.69 sec, confidence is 99.18%\n",
            "is                   from 120.69 sec to 120.84 sec, confidence is 97.78%\n",
            "not                  from 120.84 sec to 121.11 sec, confidence is 100.00%\n",
            "just                 from 121.11 sec to 121.29 sec, confidence is 100.00%\n",
            "about                from 121.29 sec to 121.50 sec, confidence is 99.98%\n",
            "running              from 121.50 sec to 121.74 sec, confidence is 72.91%\n",
            "towed                from 121.74 sec to 122.19 sec, confidence is 30.70%\n",
            "it                   from 122.67 sec to 122.82 sec, confidence is 89.30%\n",
            "is                   from 122.82 sec to 122.91 sec, confidence is 88.96%\n",
            "about                from 122.91 sec to 123.36 sec, confidence is 100.00%\n",
            "developing           from 123.39 sec to 123.99 sec, confidence is 100.00%\n",
            "elegant              from 124.02 sec to 124.59 sec, confidence is 99.81%\n",
            "and                  from 124.74 sec to 124.89 sec, confidence is 97.31%\n",
            "efficient            from 124.89 sec to 125.28 sec, confidence is 99.99%\n",
            "solutions            from 125.28 sec to 125.88 sec, confidence is 99.97%\n",
            "to                   from 126.00 sec to 126.12 sec, confidence is 52.59%\n",
            "optimize             from 126.12 sec to 126.69 sec, confidence is 79.84%\n",
            "processes            from 126.69 sec to 127.53 sec, confidence is 100.00%\n",
            "enhance              from 127.95 sec to 128.73 sec, confidence is 100.00%\n",
            "user                 from 129.12 sec to 129.39 sec, confidence is 100.00%\n",
            "experience           from 129.39 sec to 130.20 sec, confidence is 100.00%\n",
            "and                  from 130.41 sec to 130.59 sec, confidence is 99.88%\n",
            "make                 from 130.59 sec to 131.04 sec, confidence is 100.00%\n",
            "a                    from 131.19 sec to 131.28 sec, confidence is 98.26%\n",
            "positive             from 131.28 sec to 131.79 sec, confidence is 99.75%\n",
            "impact               from 131.79 sec to 132.18 sec, confidence is 99.17%\n",
            "for                  from 132.18 sec to 132.24 sec, confidence is 59.79%\n",
            "suicide              from 132.24 sec to 132.78 sec, confidence is 63.06%\n",
            "i'm                  from 133.47 sec to 133.68 sec, confidence is 64.19%\n",
            "up                   from 133.68 sec to 133.80 sec, confidence is 98.24%\n",
            "for                  from 133.80 sec to 133.95 sec, confidence is 99.94%\n",
            "any                  from 133.95 sec to 134.22 sec, confidence is 99.52%\n",
            "challenge            from 134.22 sec to 134.61 sec, confidence is 99.10%\n",
            "represent            from 134.61 sec to 135.03 sec, confidence is 49.94%\n",
            "me                   from 135.03 sec to 135.33 sec, confidence is 99.71%\n",
            "at                   from 135.54 sec to 135.75 sec, confidence is 100.00%\n",
            "my                   from 135.75 sec to 135.87 sec, confidence is 100.00%\n",
            "job                  from 135.87 sec to 136.23 sec, confidence is 100.00%\n",
            "thank                from 136.53 sec to 136.83 sec, confidence is 100.00%\n",
            "you                  from 136.83 sec to 137.07 sec, confidence is 99.33%\n"
          ]
        }
      ]
    }
  ]
}